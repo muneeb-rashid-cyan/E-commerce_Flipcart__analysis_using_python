{
  "cells": [
    {
      "cell_type": "markdown",
      "id": "6a7d5404",
      "metadata": {
        "id": "6a7d5404"
      },
      "source": [
        "<font color='blue'>\n",
        "    <font size = 5>\n",
        "        You have been given the role of a business analyst for an E-Commerce company and have been asked to prepare a basic report on the data. Follow the steps below for preparation of the report. \n",
        "\n",
        "Before you start analysing the data, it is always a good practice to see the size of the data, its features and feature types. If the data set is big, it is not possible to print out all the records. \n",
        "    </font>\n",
        "####  Note: Use the markdown feature of Python to explain your answer.\n",
        "    "
      ]
    },
    {
      "cell_type": "markdown",
      "id": "daf5d935",
      "metadata": {
        "id": "daf5d935"
      },
      "source": [
        "## Load the necessary libraries. Import and load the dataset with a name ECom_Data ."
      ]
    },
    {
      "cell_type": "code",
      "execution_count": 1,
      "id": "eec2a3b5",
      "metadata": {
        "id": "eec2a3b5"
      },
      "outputs": [],
      "source": [
        "import numpy as np\n",
        "import pandas as pd\n",
        "import matplotlib.pyplot as plt\n",
        "import seaborn as sns\n",
        "pd.options.display.max_rows = 10"
      ]
    },
    {
      "cell_type": "code",
      "execution_count": 2,
      "id": "8e1fcc97",
      "metadata": {
        "id": "8e1fcc97"
      },
      "outputs": [],
      "source": [
        "# Get the Data\n",
        "\n",
        "ECom_Data=pd.read_csv(\"E-Commerce_Flipkart.csv\")\n"
      ]
    },
    {
      "cell_type": "code",
      "source": [
        "ECom_Data"
      ],
      "metadata": {
        "colab": {
          "base_uri": "https://localhost:8080/",
          "height": 1000
        },
        "id": "S_QxsIa0K5Vs",
        "outputId": "1d0a8342-03fa-4164-ee1d-cab15610be26"
      },
      "id": "S_QxsIa0K5Vs",
      "execution_count": 3,
      "outputs": [
        {
          "output_type": "execute_result",
          "data": {
            "text/plain": [
              "                      Customer_uniq_id Region  Order_Date  \\\n",
              "0     c2d766ca982eca8304150849735ffef9  North  31-12-2021   \n",
              "1     7f7036a6d550aaa89d34c77bd39a5e48  East   31-12-2021   \n",
              "2     f449ec65dcbc041b6ae5e6a32717d01b  East   31-12-2021   \n",
              "3     0973b37acd0c664e3de26e97e5571454   West  31-12-2021   \n",
              "4     bc940ea42ee6bef5ac7cea3fb5cfbee7   West  31-12-2021   \n",
              "...                                ...    ...         ...   \n",
              "8922  90d30478255e23621e8929ed15c2f6e4  South  01-12-2020   \n",
              "8923  20a73e3f41490a73ceeba5f17658db8f   West  01-12-2020   \n",
              "8924  5c1554cd45f9d538c2c6947dbdd59c75  East   01-12-2020   \n",
              "8925  6b737a4deca1ed0e56c179e66036e994   West  01-12-2020   \n",
              "8926  a5235ac28d3d5487f54025f9d6b57433  North  01-12-2020   \n",
              "\n",
              "     Expected_Delivery_Date Delivered_Date  \\\n",
              "0                03-01-2022     02-01-2022   \n",
              "1                03-01-2022     02-01-2022   \n",
              "2                03-01-2022     02-01-2022   \n",
              "3                03-01-2022     02-01-2022   \n",
              "4                03-01-2022     02-01-2022   \n",
              "...                     ...            ...   \n",
              "8922             04-12-2020     04-12-2020   \n",
              "8923             04-12-2020     04-12-2020   \n",
              "8924             04-12-2020     04-12-2020   \n",
              "8925             04-12-2020     04-12-2020   \n",
              "8926             04-12-2020     04-12-2020   \n",
              "\n",
              "                                           product_name product_main_category  \\\n",
              "0                   Alisha Solid Women's Cycling Shorts             Clothing    \n",
              "1                   FabHomeDecor Fabric Double Sofa Bed            Furniture    \n",
              "2                                            AW Bellies             Footwear    \n",
              "3                   Alisha Solid Women's Cycling Shorts             Clothing    \n",
              "4                 Sicons All Purpose Arnica Dog Shampoo         Pet Supplies    \n",
              "...                                                 ...                   ...   \n",
              "8922  Sinina Chanderi Embroidered Salwar Suit Dupatt...             Clothing    \n",
              "8923  Aarushi Fashion Chanderi Embroidered Salwar Su...             Clothing    \n",
              "8924  Ambika Lahenga Embroidered Lehenga, Choli and ...             Clothing    \n",
              "8925  Sinina Chanderi Embroidered Salwar Suit Dupatt...             Clothing    \n",
              "8926  Aarushi Fashion Silk Striped Salwar Suit Dupat...             Clothing    \n",
              "\n",
              "          product_subcategory       product_category_filter  \\\n",
              "0           Women's Clothing    Lingerie, Sleep & Swimwear    \n",
              "1      Living Room Furniture            Sofa Beds & Futons    \n",
              "2           Women's Footwear                    Ballerinas    \n",
              "3           Women's Clothing    Lingerie, Sleep & Swimwear    \n",
              "4                   Grooming              Skin & Coat Care    \n",
              "...                       ...                           ...   \n",
              "8922        Women's Clothing                   Ethnic Wear    \n",
              "8923        Women's Clothing                   Ethnic Wear    \n",
              "8924        Women's Clothing                   Ethnic Wear    \n",
              "8925        Women's Clothing                   Ethnic Wear    \n",
              "8926        Women's Clothing                   Ethnic Wear    \n",
              "\n",
              "                             product_category_subfilter product_unique ID  \\\n",
              "0                                               Shorts   SRTEH2FF9KEDEFGF   \n",
              "1      FabHomeDecor Fabric Double Sofa Bed (Finish C...  SBEEH3QGU7MFYJFY   \n",
              "2                                            AW Bellies  SHOEH4GRSUBJGZXE   \n",
              "3                                               Shorts   SRTEH2F6HUZMQ6SJ   \n",
              "4                                              Shampoo   PSOEH3ZYDMSYARJ5   \n",
              "...                                                 ...               ...   \n",
              "8922                                            Fabric   FABEGGHHDFMY8BZU   \n",
              "8923                                            Fabric   FABEG8GFDUWRSNU3   \n",
              "8924                                    Lehenga Cholis   LEHEGGEHYN4G2RPW   \n",
              "8925                                            Fabric   FABEGGHHGSVCHGFV   \n",
              "8926                                            Fabric   FABEG8GYDAABECZH   \n",
              "\n",
              "      retail_price  discounted_price  product_rating            Brand  \\\n",
              "0              999               379             2.0           Alisha   \n",
              "1            32157             22646             2.0     FabHomeDecor   \n",
              "2              999               499             1.0               AW   \n",
              "3              699               267             5.0           Alisha   \n",
              "4              220               210             5.0           Sicons   \n",
              "...            ...               ...             ...              ...   \n",
              "8922          2980              1490             3.0           Sinina   \n",
              "8923          2600              1300             1.0  Aarushi Fashion   \n",
              "8924         39992             24995             1.0   Ambika Lahenga   \n",
              "8925          2000              1000             3.0           Sinina   \n",
              "8926          2800              1350             4.0  Aarushi Fashion   \n",
              "\n",
              "                                 product_specifications  \\\n",
              "0     {\"product_specification\"=>[{\"key\"=>\"Number of ...   \n",
              "1     {\"product_specification\"=>[{\"key\"=>\"Installati...   \n",
              "2     {\"product_specification\"=>[{\"key\"=>\"Ideal For\"...   \n",
              "3     {\"product_specification\"=>[{\"key\"=>\"Number of ...   \n",
              "4     {\"product_specification\"=>[{\"key\"=>\"Pet Type\",...   \n",
              "...                                                 ...   \n",
              "8922  {\"product_specification\"=>[{\"key\"=>\"Fabric\", \"...   \n",
              "8923  {\"product_specification\"=>[{\"key\"=>\"Fabric\", \"...   \n",
              "8924  {\"product_specification\"=>[{\"key\"=>\"Fabric\", \"...   \n",
              "8925  {\"product_specification\"=>[{\"key\"=>\"Fabric\", \"...   \n",
              "8926  {\"product_specification\"=>[{\"key\"=>\"Fabric\", \"...   \n",
              "\n",
              "                                            description  \n",
              "0     Key Features of Alisha Solid Women's Cycling S...  \n",
              "1     FabHomeDecor Fabric Double Sofa Bed (Finish Co...  \n",
              "2     Key Features of AW Bellies Sandals Wedges Heel...  \n",
              "3     Key Features of Alisha Solid Women's Cycling S...  \n",
              "4     Specifications of Sicons All Purpose Arnica Do...  \n",
              "...                                                 ...  \n",
              "8922  Key Features of Sinina Chanderi Embroidered Sa...  \n",
              "8923  Key Features of Aarushi Fashion Chanderi Embro...  \n",
              "8924  Key Features of Ambika Lahenga Embroidered Leh...  \n",
              "8925  Key Features of Sinina Chanderi Embroidered Sa...  \n",
              "8926  Key Features of Aarushi Fashion Silk Striped S...  \n",
              "\n",
              "[8927 rows x 17 columns]"
            ],
            "text/html": [
              "\n",
              "  <div id=\"df-640f5513-c1cf-4f17-885e-901f500fc1a2\">\n",
              "    <div class=\"colab-df-container\">\n",
              "      <div>\n",
              "<style scoped>\n",
              "    .dataframe tbody tr th:only-of-type {\n",
              "        vertical-align: middle;\n",
              "    }\n",
              "\n",
              "    .dataframe tbody tr th {\n",
              "        vertical-align: top;\n",
              "    }\n",
              "\n",
              "    .dataframe thead th {\n",
              "        text-align: right;\n",
              "    }\n",
              "</style>\n",
              "<table border=\"1\" class=\"dataframe\">\n",
              "  <thead>\n",
              "    <tr style=\"text-align: right;\">\n",
              "      <th></th>\n",
              "      <th>Customer_uniq_id</th>\n",
              "      <th>Region</th>\n",
              "      <th>Order_Date</th>\n",
              "      <th>Expected_Delivery_Date</th>\n",
              "      <th>Delivered_Date</th>\n",
              "      <th>product_name</th>\n",
              "      <th>product_main_category</th>\n",
              "      <th>product_subcategory</th>\n",
              "      <th>product_category_filter</th>\n",
              "      <th>product_category_subfilter</th>\n",
              "      <th>product_unique ID</th>\n",
              "      <th>retail_price</th>\n",
              "      <th>discounted_price</th>\n",
              "      <th>product_rating</th>\n",
              "      <th>Brand</th>\n",
              "      <th>product_specifications</th>\n",
              "      <th>description</th>\n",
              "    </tr>\n",
              "  </thead>\n",
              "  <tbody>\n",
              "    <tr>\n",
              "      <th>0</th>\n",
              "      <td>c2d766ca982eca8304150849735ffef9</td>\n",
              "      <td>North</td>\n",
              "      <td>31-12-2021</td>\n",
              "      <td>03-01-2022</td>\n",
              "      <td>02-01-2022</td>\n",
              "      <td>Alisha Solid Women's Cycling Shorts</td>\n",
              "      <td>Clothing</td>\n",
              "      <td>Women's Clothing</td>\n",
              "      <td>Lingerie, Sleep &amp; Swimwear</td>\n",
              "      <td>Shorts</td>\n",
              "      <td>SRTEH2FF9KEDEFGF</td>\n",
              "      <td>999</td>\n",
              "      <td>379</td>\n",
              "      <td>2.0</td>\n",
              "      <td>Alisha</td>\n",
              "      <td>{\"product_specification\"=&gt;[{\"key\"=&gt;\"Number of ...</td>\n",
              "      <td>Key Features of Alisha Solid Women's Cycling S...</td>\n",
              "    </tr>\n",
              "    <tr>\n",
              "      <th>1</th>\n",
              "      <td>7f7036a6d550aaa89d34c77bd39a5e48</td>\n",
              "      <td>East</td>\n",
              "      <td>31-12-2021</td>\n",
              "      <td>03-01-2022</td>\n",
              "      <td>02-01-2022</td>\n",
              "      <td>FabHomeDecor Fabric Double Sofa Bed</td>\n",
              "      <td>Furniture</td>\n",
              "      <td>Living Room Furniture</td>\n",
              "      <td>Sofa Beds &amp; Futons</td>\n",
              "      <td>FabHomeDecor Fabric Double Sofa Bed (Finish C...</td>\n",
              "      <td>SBEEH3QGU7MFYJFY</td>\n",
              "      <td>32157</td>\n",
              "      <td>22646</td>\n",
              "      <td>2.0</td>\n",
              "      <td>FabHomeDecor</td>\n",
              "      <td>{\"product_specification\"=&gt;[{\"key\"=&gt;\"Installati...</td>\n",
              "      <td>FabHomeDecor Fabric Double Sofa Bed (Finish Co...</td>\n",
              "    </tr>\n",
              "    <tr>\n",
              "      <th>2</th>\n",
              "      <td>f449ec65dcbc041b6ae5e6a32717d01b</td>\n",
              "      <td>East</td>\n",
              "      <td>31-12-2021</td>\n",
              "      <td>03-01-2022</td>\n",
              "      <td>02-01-2022</td>\n",
              "      <td>AW Bellies</td>\n",
              "      <td>Footwear</td>\n",
              "      <td>Women's Footwear</td>\n",
              "      <td>Ballerinas</td>\n",
              "      <td>AW Bellies</td>\n",
              "      <td>SHOEH4GRSUBJGZXE</td>\n",
              "      <td>999</td>\n",
              "      <td>499</td>\n",
              "      <td>1.0</td>\n",
              "      <td>AW</td>\n",
              "      <td>{\"product_specification\"=&gt;[{\"key\"=&gt;\"Ideal For\"...</td>\n",
              "      <td>Key Features of AW Bellies Sandals Wedges Heel...</td>\n",
              "    </tr>\n",
              "    <tr>\n",
              "      <th>3</th>\n",
              "      <td>0973b37acd0c664e3de26e97e5571454</td>\n",
              "      <td>West</td>\n",
              "      <td>31-12-2021</td>\n",
              "      <td>03-01-2022</td>\n",
              "      <td>02-01-2022</td>\n",
              "      <td>Alisha Solid Women's Cycling Shorts</td>\n",
              "      <td>Clothing</td>\n",
              "      <td>Women's Clothing</td>\n",
              "      <td>Lingerie, Sleep &amp; Swimwear</td>\n",
              "      <td>Shorts</td>\n",
              "      <td>SRTEH2F6HUZMQ6SJ</td>\n",
              "      <td>699</td>\n",
              "      <td>267</td>\n",
              "      <td>5.0</td>\n",
              "      <td>Alisha</td>\n",
              "      <td>{\"product_specification\"=&gt;[{\"key\"=&gt;\"Number of ...</td>\n",
              "      <td>Key Features of Alisha Solid Women's Cycling S...</td>\n",
              "    </tr>\n",
              "    <tr>\n",
              "      <th>4</th>\n",
              "      <td>bc940ea42ee6bef5ac7cea3fb5cfbee7</td>\n",
              "      <td>West</td>\n",
              "      <td>31-12-2021</td>\n",
              "      <td>03-01-2022</td>\n",
              "      <td>02-01-2022</td>\n",
              "      <td>Sicons All Purpose Arnica Dog Shampoo</td>\n",
              "      <td>Pet Supplies</td>\n",
              "      <td>Grooming</td>\n",
              "      <td>Skin &amp; Coat Care</td>\n",
              "      <td>Shampoo</td>\n",
              "      <td>PSOEH3ZYDMSYARJ5</td>\n",
              "      <td>220</td>\n",
              "      <td>210</td>\n",
              "      <td>5.0</td>\n",
              "      <td>Sicons</td>\n",
              "      <td>{\"product_specification\"=&gt;[{\"key\"=&gt;\"Pet Type\",...</td>\n",
              "      <td>Specifications of Sicons All Purpose Arnica Do...</td>\n",
              "    </tr>\n",
              "    <tr>\n",
              "      <th>...</th>\n",
              "      <td>...</td>\n",
              "      <td>...</td>\n",
              "      <td>...</td>\n",
              "      <td>...</td>\n",
              "      <td>...</td>\n",
              "      <td>...</td>\n",
              "      <td>...</td>\n",
              "      <td>...</td>\n",
              "      <td>...</td>\n",
              "      <td>...</td>\n",
              "      <td>...</td>\n",
              "      <td>...</td>\n",
              "      <td>...</td>\n",
              "      <td>...</td>\n",
              "      <td>...</td>\n",
              "      <td>...</td>\n",
              "      <td>...</td>\n",
              "    </tr>\n",
              "    <tr>\n",
              "      <th>8922</th>\n",
              "      <td>90d30478255e23621e8929ed15c2f6e4</td>\n",
              "      <td>South</td>\n",
              "      <td>01-12-2020</td>\n",
              "      <td>04-12-2020</td>\n",
              "      <td>04-12-2020</td>\n",
              "      <td>Sinina Chanderi Embroidered Salwar Suit Dupatt...</td>\n",
              "      <td>Clothing</td>\n",
              "      <td>Women's Clothing</td>\n",
              "      <td>Ethnic Wear</td>\n",
              "      <td>Fabric</td>\n",
              "      <td>FABEGGHHDFMY8BZU</td>\n",
              "      <td>2980</td>\n",
              "      <td>1490</td>\n",
              "      <td>3.0</td>\n",
              "      <td>Sinina</td>\n",
              "      <td>{\"product_specification\"=&gt;[{\"key\"=&gt;\"Fabric\", \"...</td>\n",
              "      <td>Key Features of Sinina Chanderi Embroidered Sa...</td>\n",
              "    </tr>\n",
              "    <tr>\n",
              "      <th>8923</th>\n",
              "      <td>20a73e3f41490a73ceeba5f17658db8f</td>\n",
              "      <td>West</td>\n",
              "      <td>01-12-2020</td>\n",
              "      <td>04-12-2020</td>\n",
              "      <td>04-12-2020</td>\n",
              "      <td>Aarushi Fashion Chanderi Embroidered Salwar Su...</td>\n",
              "      <td>Clothing</td>\n",
              "      <td>Women's Clothing</td>\n",
              "      <td>Ethnic Wear</td>\n",
              "      <td>Fabric</td>\n",
              "      <td>FABEG8GFDUWRSNU3</td>\n",
              "      <td>2600</td>\n",
              "      <td>1300</td>\n",
              "      <td>1.0</td>\n",
              "      <td>Aarushi Fashion</td>\n",
              "      <td>{\"product_specification\"=&gt;[{\"key\"=&gt;\"Fabric\", \"...</td>\n",
              "      <td>Key Features of Aarushi Fashion Chanderi Embro...</td>\n",
              "    </tr>\n",
              "    <tr>\n",
              "      <th>8924</th>\n",
              "      <td>5c1554cd45f9d538c2c6947dbdd59c75</td>\n",
              "      <td>East</td>\n",
              "      <td>01-12-2020</td>\n",
              "      <td>04-12-2020</td>\n",
              "      <td>04-12-2020</td>\n",
              "      <td>Ambika Lahenga Embroidered Lehenga, Choli and ...</td>\n",
              "      <td>Clothing</td>\n",
              "      <td>Women's Clothing</td>\n",
              "      <td>Ethnic Wear</td>\n",
              "      <td>Lehenga Cholis</td>\n",
              "      <td>LEHEGGEHYN4G2RPW</td>\n",
              "      <td>39992</td>\n",
              "      <td>24995</td>\n",
              "      <td>1.0</td>\n",
              "      <td>Ambika Lahenga</td>\n",
              "      <td>{\"product_specification\"=&gt;[{\"key\"=&gt;\"Fabric\", \"...</td>\n",
              "      <td>Key Features of Ambika Lahenga Embroidered Leh...</td>\n",
              "    </tr>\n",
              "    <tr>\n",
              "      <th>8925</th>\n",
              "      <td>6b737a4deca1ed0e56c179e66036e994</td>\n",
              "      <td>West</td>\n",
              "      <td>01-12-2020</td>\n",
              "      <td>04-12-2020</td>\n",
              "      <td>04-12-2020</td>\n",
              "      <td>Sinina Chanderi Embroidered Salwar Suit Dupatt...</td>\n",
              "      <td>Clothing</td>\n",
              "      <td>Women's Clothing</td>\n",
              "      <td>Ethnic Wear</td>\n",
              "      <td>Fabric</td>\n",
              "      <td>FABEGGHHGSVCHGFV</td>\n",
              "      <td>2000</td>\n",
              "      <td>1000</td>\n",
              "      <td>3.0</td>\n",
              "      <td>Sinina</td>\n",
              "      <td>{\"product_specification\"=&gt;[{\"key\"=&gt;\"Fabric\", \"...</td>\n",
              "      <td>Key Features of Sinina Chanderi Embroidered Sa...</td>\n",
              "    </tr>\n",
              "    <tr>\n",
              "      <th>8926</th>\n",
              "      <td>a5235ac28d3d5487f54025f9d6b57433</td>\n",
              "      <td>North</td>\n",
              "      <td>01-12-2020</td>\n",
              "      <td>04-12-2020</td>\n",
              "      <td>04-12-2020</td>\n",
              "      <td>Aarushi Fashion Silk Striped Salwar Suit Dupat...</td>\n",
              "      <td>Clothing</td>\n",
              "      <td>Women's Clothing</td>\n",
              "      <td>Ethnic Wear</td>\n",
              "      <td>Fabric</td>\n",
              "      <td>FABEG8GYDAABECZH</td>\n",
              "      <td>2800</td>\n",
              "      <td>1350</td>\n",
              "      <td>4.0</td>\n",
              "      <td>Aarushi Fashion</td>\n",
              "      <td>{\"product_specification\"=&gt;[{\"key\"=&gt;\"Fabric\", \"...</td>\n",
              "      <td>Key Features of Aarushi Fashion Silk Striped S...</td>\n",
              "    </tr>\n",
              "  </tbody>\n",
              "</table>\n",
              "<p>8927 rows × 17 columns</p>\n",
              "</div>\n",
              "      <button class=\"colab-df-convert\" onclick=\"convertToInteractive('df-640f5513-c1cf-4f17-885e-901f500fc1a2')\"\n",
              "              title=\"Convert this dataframe to an interactive table.\"\n",
              "              style=\"display:none;\">\n",
              "        \n",
              "  <svg xmlns=\"http://www.w3.org/2000/svg\" height=\"24px\"viewBox=\"0 0 24 24\"\n",
              "       width=\"24px\">\n",
              "    <path d=\"M0 0h24v24H0V0z\" fill=\"none\"/>\n",
              "    <path d=\"M18.56 5.44l.94 2.06.94-2.06 2.06-.94-2.06-.94-.94-2.06-.94 2.06-2.06.94zm-11 1L8.5 8.5l.94-2.06 2.06-.94-2.06-.94L8.5 2.5l-.94 2.06-2.06.94zm10 10l.94 2.06.94-2.06 2.06-.94-2.06-.94-.94-2.06-.94 2.06-2.06.94z\"/><path d=\"M17.41 7.96l-1.37-1.37c-.4-.4-.92-.59-1.43-.59-.52 0-1.04.2-1.43.59L10.3 9.45l-7.72 7.72c-.78.78-.78 2.05 0 2.83L4 21.41c.39.39.9.59 1.41.59.51 0 1.02-.2 1.41-.59l7.78-7.78 2.81-2.81c.8-.78.8-2.07 0-2.86zM5.41 20L4 18.59l7.72-7.72 1.47 1.35L5.41 20z\"/>\n",
              "  </svg>\n",
              "      </button>\n",
              "      \n",
              "  <style>\n",
              "    .colab-df-container {\n",
              "      display:flex;\n",
              "      flex-wrap:wrap;\n",
              "      gap: 12px;\n",
              "    }\n",
              "\n",
              "    .colab-df-convert {\n",
              "      background-color: #E8F0FE;\n",
              "      border: none;\n",
              "      border-radius: 50%;\n",
              "      cursor: pointer;\n",
              "      display: none;\n",
              "      fill: #1967D2;\n",
              "      height: 32px;\n",
              "      padding: 0 0 0 0;\n",
              "      width: 32px;\n",
              "    }\n",
              "\n",
              "    .colab-df-convert:hover {\n",
              "      background-color: #E2EBFA;\n",
              "      box-shadow: 0px 1px 2px rgba(60, 64, 67, 0.3), 0px 1px 3px 1px rgba(60, 64, 67, 0.15);\n",
              "      fill: #174EA6;\n",
              "    }\n",
              "\n",
              "    [theme=dark] .colab-df-convert {\n",
              "      background-color: #3B4455;\n",
              "      fill: #D2E3FC;\n",
              "    }\n",
              "\n",
              "    [theme=dark] .colab-df-convert:hover {\n",
              "      background-color: #434B5C;\n",
              "      box-shadow: 0px 1px 3px 1px rgba(0, 0, 0, 0.15);\n",
              "      filter: drop-shadow(0px 1px 2px rgba(0, 0, 0, 0.3));\n",
              "      fill: #FFFFFF;\n",
              "    }\n",
              "  </style>\n",
              "\n",
              "      <script>\n",
              "        const buttonEl =\n",
              "          document.querySelector('#df-640f5513-c1cf-4f17-885e-901f500fc1a2 button.colab-df-convert');\n",
              "        buttonEl.style.display =\n",
              "          google.colab.kernel.accessAllowed ? 'block' : 'none';\n",
              "\n",
              "        async function convertToInteractive(key) {\n",
              "          const element = document.querySelector('#df-640f5513-c1cf-4f17-885e-901f500fc1a2');\n",
              "          const dataTable =\n",
              "            await google.colab.kernel.invokeFunction('convertToInteractive',\n",
              "                                                     [key], {});\n",
              "          if (!dataTable) return;\n",
              "\n",
              "          const docLinkHtml = 'Like what you see? Visit the ' +\n",
              "            '<a target=\"_blank\" href=https://colab.research.google.com/notebooks/data_table.ipynb>data table notebook</a>'\n",
              "            + ' to learn more about interactive tables.';\n",
              "          element.innerHTML = '';\n",
              "          dataTable['output_type'] = 'display_data';\n",
              "          await google.colab.output.renderOutput(dataTable, element);\n",
              "          const docLink = document.createElement('div');\n",
              "          docLink.innerHTML = docLinkHtml;\n",
              "          element.appendChild(docLink);\n",
              "        }\n",
              "      </script>\n",
              "    </div>\n",
              "  </div>\n",
              "  "
            ]
          },
          "metadata": {},
          "execution_count": 3
        }
      ]
    },
    {
      "cell_type": "markdown",
      "id": "2cf5f20f",
      "metadata": {
        "id": "2cf5f20f"
      },
      "source": [
        "<font color='blue'>\n",
        "    <font size = 5>\n",
        "        We have read the data and stored the data in \"ECom_Data\" variable </font>"
      ]
    },
    {
      "cell_type": "markdown",
      "id": "a0a4f84a",
      "metadata": {
        "id": "a0a4f84a"
      },
      "source": [
        "## Q 1.\tTo get familiar with the data\n",
        "## a)\tPrint out the first 10 and the last 10 records of the data. (2 marks)\n",
        "## b)\tHow many rows and columns are present in the dataset? Use any two different methods to extract this information. (2 + 2 + 2 marks)\n",
        "## c)\tHow many object data types are there? (1 mark)\n",
        "## d)\tIs there any Boolean data type? (1 mark) \n",
        "#### Note: Use the markdown feature of Python to explain your answer.\n"
      ]
    },
    {
      "cell_type": "code",
      "execution_count": 3,
      "id": "55ad77c3",
      "metadata": {
        "id": "55ad77c3"
      },
      "outputs": [],
      "source": [
        ""
      ]
    },
    {
      "cell_type": "markdown",
      "id": "0ba43d74",
      "metadata": {
        "id": "0ba43d74"
      },
      "source": [
        "#### Ans 1 a)"
      ]
    },
    {
      "cell_type": "code",
      "execution_count": 4,
      "id": "6684f5a1",
      "metadata": {
        "colab": {
          "base_uri": "https://localhost:8080/",
          "height": 531
        },
        "id": "6684f5a1",
        "outputId": "ad89e159-ec85-4249-a5bc-75e3c7005828"
      },
      "outputs": [
        {
          "output_type": "execute_result",
          "data": {
            "text/plain": [
              "                   Customer_uniq_id Region  Order_Date Expected_Delivery_Date  \\\n",
              "0  c2d766ca982eca8304150849735ffef9  North  31-12-2021             03-01-2022   \n",
              "1  7f7036a6d550aaa89d34c77bd39a5e48  East   31-12-2021             03-01-2022   \n",
              "2  f449ec65dcbc041b6ae5e6a32717d01b  East   31-12-2021             03-01-2022   \n",
              "3  0973b37acd0c664e3de26e97e5571454   West  31-12-2021             03-01-2022   \n",
              "4  bc940ea42ee6bef5ac7cea3fb5cfbee7   West  31-12-2021             03-01-2022   \n",
              "\n",
              "  Delivered_Date                           product_name product_main_category  \\\n",
              "0     02-01-2022    Alisha Solid Women's Cycling Shorts             Clothing    \n",
              "1     02-01-2022    FabHomeDecor Fabric Double Sofa Bed            Furniture    \n",
              "2     02-01-2022                             AW Bellies             Footwear    \n",
              "3     02-01-2022    Alisha Solid Women's Cycling Shorts             Clothing    \n",
              "4     02-01-2022  Sicons All Purpose Arnica Dog Shampoo         Pet Supplies    \n",
              "\n",
              "       product_subcategory       product_category_filter  \\\n",
              "0        Women's Clothing    Lingerie, Sleep & Swimwear    \n",
              "1   Living Room Furniture            Sofa Beds & Futons    \n",
              "2        Women's Footwear                    Ballerinas    \n",
              "3        Women's Clothing    Lingerie, Sleep & Swimwear    \n",
              "4                Grooming              Skin & Coat Care    \n",
              "\n",
              "                          product_category_subfilter product_unique ID  \\\n",
              "0                                            Shorts   SRTEH2FF9KEDEFGF   \n",
              "1   FabHomeDecor Fabric Double Sofa Bed (Finish C...  SBEEH3QGU7MFYJFY   \n",
              "2                                         AW Bellies  SHOEH4GRSUBJGZXE   \n",
              "3                                            Shorts   SRTEH2F6HUZMQ6SJ   \n",
              "4                                           Shampoo   PSOEH3ZYDMSYARJ5   \n",
              "\n",
              "   retail_price  discounted_price  product_rating         Brand  \\\n",
              "0           999               379             2.0        Alisha   \n",
              "1         32157             22646             2.0  FabHomeDecor   \n",
              "2           999               499             1.0            AW   \n",
              "3           699               267             5.0        Alisha   \n",
              "4           220               210             5.0        Sicons   \n",
              "\n",
              "                              product_specifications  \\\n",
              "0  {\"product_specification\"=>[{\"key\"=>\"Number of ...   \n",
              "1  {\"product_specification\"=>[{\"key\"=>\"Installati...   \n",
              "2  {\"product_specification\"=>[{\"key\"=>\"Ideal For\"...   \n",
              "3  {\"product_specification\"=>[{\"key\"=>\"Number of ...   \n",
              "4  {\"product_specification\"=>[{\"key\"=>\"Pet Type\",...   \n",
              "\n",
              "                                         description  \n",
              "0  Key Features of Alisha Solid Women's Cycling S...  \n",
              "1  FabHomeDecor Fabric Double Sofa Bed (Finish Co...  \n",
              "2  Key Features of AW Bellies Sandals Wedges Heel...  \n",
              "3  Key Features of Alisha Solid Women's Cycling S...  \n",
              "4  Specifications of Sicons All Purpose Arnica Do...  "
            ],
            "text/html": [
              "\n",
              "  <div id=\"df-64e89883-4bfb-4ec6-a3d6-688f544e983c\">\n",
              "    <div class=\"colab-df-container\">\n",
              "      <div>\n",
              "<style scoped>\n",
              "    .dataframe tbody tr th:only-of-type {\n",
              "        vertical-align: middle;\n",
              "    }\n",
              "\n",
              "    .dataframe tbody tr th {\n",
              "        vertical-align: top;\n",
              "    }\n",
              "\n",
              "    .dataframe thead th {\n",
              "        text-align: right;\n",
              "    }\n",
              "</style>\n",
              "<table border=\"1\" class=\"dataframe\">\n",
              "  <thead>\n",
              "    <tr style=\"text-align: right;\">\n",
              "      <th></th>\n",
              "      <th>Customer_uniq_id</th>\n",
              "      <th>Region</th>\n",
              "      <th>Order_Date</th>\n",
              "      <th>Expected_Delivery_Date</th>\n",
              "      <th>Delivered_Date</th>\n",
              "      <th>product_name</th>\n",
              "      <th>product_main_category</th>\n",
              "      <th>product_subcategory</th>\n",
              "      <th>product_category_filter</th>\n",
              "      <th>product_category_subfilter</th>\n",
              "      <th>product_unique ID</th>\n",
              "      <th>retail_price</th>\n",
              "      <th>discounted_price</th>\n",
              "      <th>product_rating</th>\n",
              "      <th>Brand</th>\n",
              "      <th>product_specifications</th>\n",
              "      <th>description</th>\n",
              "    </tr>\n",
              "  </thead>\n",
              "  <tbody>\n",
              "    <tr>\n",
              "      <th>0</th>\n",
              "      <td>c2d766ca982eca8304150849735ffef9</td>\n",
              "      <td>North</td>\n",
              "      <td>31-12-2021</td>\n",
              "      <td>03-01-2022</td>\n",
              "      <td>02-01-2022</td>\n",
              "      <td>Alisha Solid Women's Cycling Shorts</td>\n",
              "      <td>Clothing</td>\n",
              "      <td>Women's Clothing</td>\n",
              "      <td>Lingerie, Sleep &amp; Swimwear</td>\n",
              "      <td>Shorts</td>\n",
              "      <td>SRTEH2FF9KEDEFGF</td>\n",
              "      <td>999</td>\n",
              "      <td>379</td>\n",
              "      <td>2.0</td>\n",
              "      <td>Alisha</td>\n",
              "      <td>{\"product_specification\"=&gt;[{\"key\"=&gt;\"Number of ...</td>\n",
              "      <td>Key Features of Alisha Solid Women's Cycling S...</td>\n",
              "    </tr>\n",
              "    <tr>\n",
              "      <th>1</th>\n",
              "      <td>7f7036a6d550aaa89d34c77bd39a5e48</td>\n",
              "      <td>East</td>\n",
              "      <td>31-12-2021</td>\n",
              "      <td>03-01-2022</td>\n",
              "      <td>02-01-2022</td>\n",
              "      <td>FabHomeDecor Fabric Double Sofa Bed</td>\n",
              "      <td>Furniture</td>\n",
              "      <td>Living Room Furniture</td>\n",
              "      <td>Sofa Beds &amp; Futons</td>\n",
              "      <td>FabHomeDecor Fabric Double Sofa Bed (Finish C...</td>\n",
              "      <td>SBEEH3QGU7MFYJFY</td>\n",
              "      <td>32157</td>\n",
              "      <td>22646</td>\n",
              "      <td>2.0</td>\n",
              "      <td>FabHomeDecor</td>\n",
              "      <td>{\"product_specification\"=&gt;[{\"key\"=&gt;\"Installati...</td>\n",
              "      <td>FabHomeDecor Fabric Double Sofa Bed (Finish Co...</td>\n",
              "    </tr>\n",
              "    <tr>\n",
              "      <th>2</th>\n",
              "      <td>f449ec65dcbc041b6ae5e6a32717d01b</td>\n",
              "      <td>East</td>\n",
              "      <td>31-12-2021</td>\n",
              "      <td>03-01-2022</td>\n",
              "      <td>02-01-2022</td>\n",
              "      <td>AW Bellies</td>\n",
              "      <td>Footwear</td>\n",
              "      <td>Women's Footwear</td>\n",
              "      <td>Ballerinas</td>\n",
              "      <td>AW Bellies</td>\n",
              "      <td>SHOEH4GRSUBJGZXE</td>\n",
              "      <td>999</td>\n",
              "      <td>499</td>\n",
              "      <td>1.0</td>\n",
              "      <td>AW</td>\n",
              "      <td>{\"product_specification\"=&gt;[{\"key\"=&gt;\"Ideal For\"...</td>\n",
              "      <td>Key Features of AW Bellies Sandals Wedges Heel...</td>\n",
              "    </tr>\n",
              "    <tr>\n",
              "      <th>3</th>\n",
              "      <td>0973b37acd0c664e3de26e97e5571454</td>\n",
              "      <td>West</td>\n",
              "      <td>31-12-2021</td>\n",
              "      <td>03-01-2022</td>\n",
              "      <td>02-01-2022</td>\n",
              "      <td>Alisha Solid Women's Cycling Shorts</td>\n",
              "      <td>Clothing</td>\n",
              "      <td>Women's Clothing</td>\n",
              "      <td>Lingerie, Sleep &amp; Swimwear</td>\n",
              "      <td>Shorts</td>\n",
              "      <td>SRTEH2F6HUZMQ6SJ</td>\n",
              "      <td>699</td>\n",
              "      <td>267</td>\n",
              "      <td>5.0</td>\n",
              "      <td>Alisha</td>\n",
              "      <td>{\"product_specification\"=&gt;[{\"key\"=&gt;\"Number of ...</td>\n",
              "      <td>Key Features of Alisha Solid Women's Cycling S...</td>\n",
              "    </tr>\n",
              "    <tr>\n",
              "      <th>4</th>\n",
              "      <td>bc940ea42ee6bef5ac7cea3fb5cfbee7</td>\n",
              "      <td>West</td>\n",
              "      <td>31-12-2021</td>\n",
              "      <td>03-01-2022</td>\n",
              "      <td>02-01-2022</td>\n",
              "      <td>Sicons All Purpose Arnica Dog Shampoo</td>\n",
              "      <td>Pet Supplies</td>\n",
              "      <td>Grooming</td>\n",
              "      <td>Skin &amp; Coat Care</td>\n",
              "      <td>Shampoo</td>\n",
              "      <td>PSOEH3ZYDMSYARJ5</td>\n",
              "      <td>220</td>\n",
              "      <td>210</td>\n",
              "      <td>5.0</td>\n",
              "      <td>Sicons</td>\n",
              "      <td>{\"product_specification\"=&gt;[{\"key\"=&gt;\"Pet Type\",...</td>\n",
              "      <td>Specifications of Sicons All Purpose Arnica Do...</td>\n",
              "    </tr>\n",
              "  </tbody>\n",
              "</table>\n",
              "</div>\n",
              "      <button class=\"colab-df-convert\" onclick=\"convertToInteractive('df-64e89883-4bfb-4ec6-a3d6-688f544e983c')\"\n",
              "              title=\"Convert this dataframe to an interactive table.\"\n",
              "              style=\"display:none;\">\n",
              "        \n",
              "  <svg xmlns=\"http://www.w3.org/2000/svg\" height=\"24px\"viewBox=\"0 0 24 24\"\n",
              "       width=\"24px\">\n",
              "    <path d=\"M0 0h24v24H0V0z\" fill=\"none\"/>\n",
              "    <path d=\"M18.56 5.44l.94 2.06.94-2.06 2.06-.94-2.06-.94-.94-2.06-.94 2.06-2.06.94zm-11 1L8.5 8.5l.94-2.06 2.06-.94-2.06-.94L8.5 2.5l-.94 2.06-2.06.94zm10 10l.94 2.06.94-2.06 2.06-.94-2.06-.94-.94-2.06-.94 2.06-2.06.94z\"/><path d=\"M17.41 7.96l-1.37-1.37c-.4-.4-.92-.59-1.43-.59-.52 0-1.04.2-1.43.59L10.3 9.45l-7.72 7.72c-.78.78-.78 2.05 0 2.83L4 21.41c.39.39.9.59 1.41.59.51 0 1.02-.2 1.41-.59l7.78-7.78 2.81-2.81c.8-.78.8-2.07 0-2.86zM5.41 20L4 18.59l7.72-7.72 1.47 1.35L5.41 20z\"/>\n",
              "  </svg>\n",
              "      </button>\n",
              "      \n",
              "  <style>\n",
              "    .colab-df-container {\n",
              "      display:flex;\n",
              "      flex-wrap:wrap;\n",
              "      gap: 12px;\n",
              "    }\n",
              "\n",
              "    .colab-df-convert {\n",
              "      background-color: #E8F0FE;\n",
              "      border: none;\n",
              "      border-radius: 50%;\n",
              "      cursor: pointer;\n",
              "      display: none;\n",
              "      fill: #1967D2;\n",
              "      height: 32px;\n",
              "      padding: 0 0 0 0;\n",
              "      width: 32px;\n",
              "    }\n",
              "\n",
              "    .colab-df-convert:hover {\n",
              "      background-color: #E2EBFA;\n",
              "      box-shadow: 0px 1px 2px rgba(60, 64, 67, 0.3), 0px 1px 3px 1px rgba(60, 64, 67, 0.15);\n",
              "      fill: #174EA6;\n",
              "    }\n",
              "\n",
              "    [theme=dark] .colab-df-convert {\n",
              "      background-color: #3B4455;\n",
              "      fill: #D2E3FC;\n",
              "    }\n",
              "\n",
              "    [theme=dark] .colab-df-convert:hover {\n",
              "      background-color: #434B5C;\n",
              "      box-shadow: 0px 1px 3px 1px rgba(0, 0, 0, 0.15);\n",
              "      filter: drop-shadow(0px 1px 2px rgba(0, 0, 0, 0.3));\n",
              "      fill: #FFFFFF;\n",
              "    }\n",
              "  </style>\n",
              "\n",
              "      <script>\n",
              "        const buttonEl =\n",
              "          document.querySelector('#df-64e89883-4bfb-4ec6-a3d6-688f544e983c button.colab-df-convert');\n",
              "        buttonEl.style.display =\n",
              "          google.colab.kernel.accessAllowed ? 'block' : 'none';\n",
              "\n",
              "        async function convertToInteractive(key) {\n",
              "          const element = document.querySelector('#df-64e89883-4bfb-4ec6-a3d6-688f544e983c');\n",
              "          const dataTable =\n",
              "            await google.colab.kernel.invokeFunction('convertToInteractive',\n",
              "                                                     [key], {});\n",
              "          if (!dataTable) return;\n",
              "\n",
              "          const docLinkHtml = 'Like what you see? Visit the ' +\n",
              "            '<a target=\"_blank\" href=https://colab.research.google.com/notebooks/data_table.ipynb>data table notebook</a>'\n",
              "            + ' to learn more about interactive tables.';\n",
              "          element.innerHTML = '';\n",
              "          dataTable['output_type'] = 'display_data';\n",
              "          await google.colab.output.renderOutput(dataTable, element);\n",
              "          const docLink = document.createElement('div');\n",
              "          docLink.innerHTML = docLinkHtml;\n",
              "          element.appendChild(docLink);\n",
              "        }\n",
              "      </script>\n",
              "    </div>\n",
              "  </div>\n",
              "  "
            ]
          },
          "metadata": {},
          "execution_count": 4
        }
      ],
      "source": [
        "ECom_Data.head()"
      ]
    },
    {
      "cell_type": "code",
      "source": [
        "ECom_Data.tail()"
      ],
      "metadata": {
        "colab": {
          "base_uri": "https://localhost:8080/",
          "height": 600
        },
        "id": "2ZrKXIjZLXib",
        "outputId": "76b3fb6e-4ec0-4c51-915f-c7e181f5fa46"
      },
      "id": "2ZrKXIjZLXib",
      "execution_count": 5,
      "outputs": [
        {
          "output_type": "execute_result",
          "data": {
            "text/plain": [
              "                      Customer_uniq_id Region  Order_Date  \\\n",
              "8922  90d30478255e23621e8929ed15c2f6e4  South  01-12-2020   \n",
              "8923  20a73e3f41490a73ceeba5f17658db8f   West  01-12-2020   \n",
              "8924  5c1554cd45f9d538c2c6947dbdd59c75  East   01-12-2020   \n",
              "8925  6b737a4deca1ed0e56c179e66036e994   West  01-12-2020   \n",
              "8926  a5235ac28d3d5487f54025f9d6b57433  North  01-12-2020   \n",
              "\n",
              "     Expected_Delivery_Date Delivered_Date  \\\n",
              "8922             04-12-2020     04-12-2020   \n",
              "8923             04-12-2020     04-12-2020   \n",
              "8924             04-12-2020     04-12-2020   \n",
              "8925             04-12-2020     04-12-2020   \n",
              "8926             04-12-2020     04-12-2020   \n",
              "\n",
              "                                           product_name product_main_category  \\\n",
              "8922  Sinina Chanderi Embroidered Salwar Suit Dupatt...             Clothing    \n",
              "8923  Aarushi Fashion Chanderi Embroidered Salwar Su...             Clothing    \n",
              "8924  Ambika Lahenga Embroidered Lehenga, Choli and ...             Clothing    \n",
              "8925  Sinina Chanderi Embroidered Salwar Suit Dupatt...             Clothing    \n",
              "8926  Aarushi Fashion Silk Striped Salwar Suit Dupat...             Clothing    \n",
              "\n",
              "     product_subcategory product_category_filter product_category_subfilter  \\\n",
              "8922   Women's Clothing             Ethnic Wear                     Fabric    \n",
              "8923   Women's Clothing             Ethnic Wear                     Fabric    \n",
              "8924   Women's Clothing             Ethnic Wear             Lehenga Cholis    \n",
              "8925   Women's Clothing             Ethnic Wear                     Fabric    \n",
              "8926   Women's Clothing             Ethnic Wear                     Fabric    \n",
              "\n",
              "     product_unique ID  retail_price  discounted_price  product_rating  \\\n",
              "8922  FABEGGHHDFMY8BZU          2980              1490             3.0   \n",
              "8923  FABEG8GFDUWRSNU3          2600              1300             1.0   \n",
              "8924  LEHEGGEHYN4G2RPW         39992             24995             1.0   \n",
              "8925  FABEGGHHGSVCHGFV          2000              1000             3.0   \n",
              "8926  FABEG8GYDAABECZH          2800              1350             4.0   \n",
              "\n",
              "                Brand                             product_specifications  \\\n",
              "8922           Sinina  {\"product_specification\"=>[{\"key\"=>\"Fabric\", \"...   \n",
              "8923  Aarushi Fashion  {\"product_specification\"=>[{\"key\"=>\"Fabric\", \"...   \n",
              "8924   Ambika Lahenga  {\"product_specification\"=>[{\"key\"=>\"Fabric\", \"...   \n",
              "8925           Sinina  {\"product_specification\"=>[{\"key\"=>\"Fabric\", \"...   \n",
              "8926  Aarushi Fashion  {\"product_specification\"=>[{\"key\"=>\"Fabric\", \"...   \n",
              "\n",
              "                                            description  \n",
              "8922  Key Features of Sinina Chanderi Embroidered Sa...  \n",
              "8923  Key Features of Aarushi Fashion Chanderi Embro...  \n",
              "8924  Key Features of Ambika Lahenga Embroidered Leh...  \n",
              "8925  Key Features of Sinina Chanderi Embroidered Sa...  \n",
              "8926  Key Features of Aarushi Fashion Silk Striped S...  "
            ],
            "text/html": [
              "\n",
              "  <div id=\"df-87aeb9e8-196e-446c-af1f-40694841af17\">\n",
              "    <div class=\"colab-df-container\">\n",
              "      <div>\n",
              "<style scoped>\n",
              "    .dataframe tbody tr th:only-of-type {\n",
              "        vertical-align: middle;\n",
              "    }\n",
              "\n",
              "    .dataframe tbody tr th {\n",
              "        vertical-align: top;\n",
              "    }\n",
              "\n",
              "    .dataframe thead th {\n",
              "        text-align: right;\n",
              "    }\n",
              "</style>\n",
              "<table border=\"1\" class=\"dataframe\">\n",
              "  <thead>\n",
              "    <tr style=\"text-align: right;\">\n",
              "      <th></th>\n",
              "      <th>Customer_uniq_id</th>\n",
              "      <th>Region</th>\n",
              "      <th>Order_Date</th>\n",
              "      <th>Expected_Delivery_Date</th>\n",
              "      <th>Delivered_Date</th>\n",
              "      <th>product_name</th>\n",
              "      <th>product_main_category</th>\n",
              "      <th>product_subcategory</th>\n",
              "      <th>product_category_filter</th>\n",
              "      <th>product_category_subfilter</th>\n",
              "      <th>product_unique ID</th>\n",
              "      <th>retail_price</th>\n",
              "      <th>discounted_price</th>\n",
              "      <th>product_rating</th>\n",
              "      <th>Brand</th>\n",
              "      <th>product_specifications</th>\n",
              "      <th>description</th>\n",
              "    </tr>\n",
              "  </thead>\n",
              "  <tbody>\n",
              "    <tr>\n",
              "      <th>8922</th>\n",
              "      <td>90d30478255e23621e8929ed15c2f6e4</td>\n",
              "      <td>South</td>\n",
              "      <td>01-12-2020</td>\n",
              "      <td>04-12-2020</td>\n",
              "      <td>04-12-2020</td>\n",
              "      <td>Sinina Chanderi Embroidered Salwar Suit Dupatt...</td>\n",
              "      <td>Clothing</td>\n",
              "      <td>Women's Clothing</td>\n",
              "      <td>Ethnic Wear</td>\n",
              "      <td>Fabric</td>\n",
              "      <td>FABEGGHHDFMY8BZU</td>\n",
              "      <td>2980</td>\n",
              "      <td>1490</td>\n",
              "      <td>3.0</td>\n",
              "      <td>Sinina</td>\n",
              "      <td>{\"product_specification\"=&gt;[{\"key\"=&gt;\"Fabric\", \"...</td>\n",
              "      <td>Key Features of Sinina Chanderi Embroidered Sa...</td>\n",
              "    </tr>\n",
              "    <tr>\n",
              "      <th>8923</th>\n",
              "      <td>20a73e3f41490a73ceeba5f17658db8f</td>\n",
              "      <td>West</td>\n",
              "      <td>01-12-2020</td>\n",
              "      <td>04-12-2020</td>\n",
              "      <td>04-12-2020</td>\n",
              "      <td>Aarushi Fashion Chanderi Embroidered Salwar Su...</td>\n",
              "      <td>Clothing</td>\n",
              "      <td>Women's Clothing</td>\n",
              "      <td>Ethnic Wear</td>\n",
              "      <td>Fabric</td>\n",
              "      <td>FABEG8GFDUWRSNU3</td>\n",
              "      <td>2600</td>\n",
              "      <td>1300</td>\n",
              "      <td>1.0</td>\n",
              "      <td>Aarushi Fashion</td>\n",
              "      <td>{\"product_specification\"=&gt;[{\"key\"=&gt;\"Fabric\", \"...</td>\n",
              "      <td>Key Features of Aarushi Fashion Chanderi Embro...</td>\n",
              "    </tr>\n",
              "    <tr>\n",
              "      <th>8924</th>\n",
              "      <td>5c1554cd45f9d538c2c6947dbdd59c75</td>\n",
              "      <td>East</td>\n",
              "      <td>01-12-2020</td>\n",
              "      <td>04-12-2020</td>\n",
              "      <td>04-12-2020</td>\n",
              "      <td>Ambika Lahenga Embroidered Lehenga, Choli and ...</td>\n",
              "      <td>Clothing</td>\n",
              "      <td>Women's Clothing</td>\n",
              "      <td>Ethnic Wear</td>\n",
              "      <td>Lehenga Cholis</td>\n",
              "      <td>LEHEGGEHYN4G2RPW</td>\n",
              "      <td>39992</td>\n",
              "      <td>24995</td>\n",
              "      <td>1.0</td>\n",
              "      <td>Ambika Lahenga</td>\n",
              "      <td>{\"product_specification\"=&gt;[{\"key\"=&gt;\"Fabric\", \"...</td>\n",
              "      <td>Key Features of Ambika Lahenga Embroidered Leh...</td>\n",
              "    </tr>\n",
              "    <tr>\n",
              "      <th>8925</th>\n",
              "      <td>6b737a4deca1ed0e56c179e66036e994</td>\n",
              "      <td>West</td>\n",
              "      <td>01-12-2020</td>\n",
              "      <td>04-12-2020</td>\n",
              "      <td>04-12-2020</td>\n",
              "      <td>Sinina Chanderi Embroidered Salwar Suit Dupatt...</td>\n",
              "      <td>Clothing</td>\n",
              "      <td>Women's Clothing</td>\n",
              "      <td>Ethnic Wear</td>\n",
              "      <td>Fabric</td>\n",
              "      <td>FABEGGHHGSVCHGFV</td>\n",
              "      <td>2000</td>\n",
              "      <td>1000</td>\n",
              "      <td>3.0</td>\n",
              "      <td>Sinina</td>\n",
              "      <td>{\"product_specification\"=&gt;[{\"key\"=&gt;\"Fabric\", \"...</td>\n",
              "      <td>Key Features of Sinina Chanderi Embroidered Sa...</td>\n",
              "    </tr>\n",
              "    <tr>\n",
              "      <th>8926</th>\n",
              "      <td>a5235ac28d3d5487f54025f9d6b57433</td>\n",
              "      <td>North</td>\n",
              "      <td>01-12-2020</td>\n",
              "      <td>04-12-2020</td>\n",
              "      <td>04-12-2020</td>\n",
              "      <td>Aarushi Fashion Silk Striped Salwar Suit Dupat...</td>\n",
              "      <td>Clothing</td>\n",
              "      <td>Women's Clothing</td>\n",
              "      <td>Ethnic Wear</td>\n",
              "      <td>Fabric</td>\n",
              "      <td>FABEG8GYDAABECZH</td>\n",
              "      <td>2800</td>\n",
              "      <td>1350</td>\n",
              "      <td>4.0</td>\n",
              "      <td>Aarushi Fashion</td>\n",
              "      <td>{\"product_specification\"=&gt;[{\"key\"=&gt;\"Fabric\", \"...</td>\n",
              "      <td>Key Features of Aarushi Fashion Silk Striped S...</td>\n",
              "    </tr>\n",
              "  </tbody>\n",
              "</table>\n",
              "</div>\n",
              "      <button class=\"colab-df-convert\" onclick=\"convertToInteractive('df-87aeb9e8-196e-446c-af1f-40694841af17')\"\n",
              "              title=\"Convert this dataframe to an interactive table.\"\n",
              "              style=\"display:none;\">\n",
              "        \n",
              "  <svg xmlns=\"http://www.w3.org/2000/svg\" height=\"24px\"viewBox=\"0 0 24 24\"\n",
              "       width=\"24px\">\n",
              "    <path d=\"M0 0h24v24H0V0z\" fill=\"none\"/>\n",
              "    <path d=\"M18.56 5.44l.94 2.06.94-2.06 2.06-.94-2.06-.94-.94-2.06-.94 2.06-2.06.94zm-11 1L8.5 8.5l.94-2.06 2.06-.94-2.06-.94L8.5 2.5l-.94 2.06-2.06.94zm10 10l.94 2.06.94-2.06 2.06-.94-2.06-.94-.94-2.06-.94 2.06-2.06.94z\"/><path d=\"M17.41 7.96l-1.37-1.37c-.4-.4-.92-.59-1.43-.59-.52 0-1.04.2-1.43.59L10.3 9.45l-7.72 7.72c-.78.78-.78 2.05 0 2.83L4 21.41c.39.39.9.59 1.41.59.51 0 1.02-.2 1.41-.59l7.78-7.78 2.81-2.81c.8-.78.8-2.07 0-2.86zM5.41 20L4 18.59l7.72-7.72 1.47 1.35L5.41 20z\"/>\n",
              "  </svg>\n",
              "      </button>\n",
              "      \n",
              "  <style>\n",
              "    .colab-df-container {\n",
              "      display:flex;\n",
              "      flex-wrap:wrap;\n",
              "      gap: 12px;\n",
              "    }\n",
              "\n",
              "    .colab-df-convert {\n",
              "      background-color: #E8F0FE;\n",
              "      border: none;\n",
              "      border-radius: 50%;\n",
              "      cursor: pointer;\n",
              "      display: none;\n",
              "      fill: #1967D2;\n",
              "      height: 32px;\n",
              "      padding: 0 0 0 0;\n",
              "      width: 32px;\n",
              "    }\n",
              "\n",
              "    .colab-df-convert:hover {\n",
              "      background-color: #E2EBFA;\n",
              "      box-shadow: 0px 1px 2px rgba(60, 64, 67, 0.3), 0px 1px 3px 1px rgba(60, 64, 67, 0.15);\n",
              "      fill: #174EA6;\n",
              "    }\n",
              "\n",
              "    [theme=dark] .colab-df-convert {\n",
              "      background-color: #3B4455;\n",
              "      fill: #D2E3FC;\n",
              "    }\n",
              "\n",
              "    [theme=dark] .colab-df-convert:hover {\n",
              "      background-color: #434B5C;\n",
              "      box-shadow: 0px 1px 3px 1px rgba(0, 0, 0, 0.15);\n",
              "      filter: drop-shadow(0px 1px 2px rgba(0, 0, 0, 0.3));\n",
              "      fill: #FFFFFF;\n",
              "    }\n",
              "  </style>\n",
              "\n",
              "      <script>\n",
              "        const buttonEl =\n",
              "          document.querySelector('#df-87aeb9e8-196e-446c-af1f-40694841af17 button.colab-df-convert');\n",
              "        buttonEl.style.display =\n",
              "          google.colab.kernel.accessAllowed ? 'block' : 'none';\n",
              "\n",
              "        async function convertToInteractive(key) {\n",
              "          const element = document.querySelector('#df-87aeb9e8-196e-446c-af1f-40694841af17');\n",
              "          const dataTable =\n",
              "            await google.colab.kernel.invokeFunction('convertToInteractive',\n",
              "                                                     [key], {});\n",
              "          if (!dataTable) return;\n",
              "\n",
              "          const docLinkHtml = 'Like what you see? Visit the ' +\n",
              "            '<a target=\"_blank\" href=https://colab.research.google.com/notebooks/data_table.ipynb>data table notebook</a>'\n",
              "            + ' to learn more about interactive tables.';\n",
              "          element.innerHTML = '';\n",
              "          dataTable['output_type'] = 'display_data';\n",
              "          await google.colab.output.renderOutput(dataTable, element);\n",
              "          const docLink = document.createElement('div');\n",
              "          docLink.innerHTML = docLinkHtml;\n",
              "          element.appendChild(docLink);\n",
              "        }\n",
              "      </script>\n",
              "    </div>\n",
              "  </div>\n",
              "  "
            ]
          },
          "metadata": {},
          "execution_count": 5
        }
      ]
    },
    {
      "cell_type": "markdown",
      "id": "48baeda6",
      "metadata": {
        "id": "48baeda6"
      },
      "source": [
        "#### Ans 1 b)"
      ]
    },
    {
      "cell_type": "code",
      "execution_count": 6,
      "id": "0ac3ef5d",
      "metadata": {
        "colab": {
          "base_uri": "https://localhost:8080/"
        },
        "id": "0ac3ef5d",
        "outputId": "bff1a025-2266-453f-88d4-6d7fe1e216fe"
      },
      "outputs": [
        {
          "output_type": "stream",
          "name": "stdout",
          "text": [
            "Number of Rows:  8927\n",
            "Number of Columns:  17\n"
          ]
        }
      ],
      "source": [
        "rows = len(ECom_Data.axes[0])\n",
        "cols = len(ECom_Data.axes[1])\n",
        "print(\"Number of Rows: \", rows)\n",
        "print(\"Number of Columns: \", cols)"
      ]
    },
    {
      "cell_type": "code",
      "source": [
        "print(\"The total numbers of rows is\",len(ECom_Data))\n",
        "print(\"The total number of columns is\",len(ECom_Data.columns))"
      ],
      "metadata": {
        "colab": {
          "base_uri": "https://localhost:8080/"
        },
        "id": "M4eJ-UDJL6pM",
        "outputId": "8b1a8c90-f14c-4790-e2e8-b8eff87bfb27"
      },
      "id": "M4eJ-UDJL6pM",
      "execution_count": 7,
      "outputs": [
        {
          "output_type": "stream",
          "name": "stdout",
          "text": [
            "The total numbers of rows is 8927\n",
            "The total number of columns is 17\n"
          ]
        }
      ]
    },
    {
      "cell_type": "markdown",
      "id": "6aaa54a0",
      "metadata": {
        "id": "6aaa54a0"
      },
      "source": [
        "#### Ans  1 c)"
      ]
    },
    {
      "cell_type": "code",
      "source": [
        "ECom_Data.dtypes.value_counts()"
      ],
      "metadata": {
        "colab": {
          "base_uri": "https://localhost:8080/"
        },
        "id": "BA1dHNfPNgDB",
        "outputId": "25c93541-7023-4752-eeef-570d1c75e8b6"
      },
      "id": "BA1dHNfPNgDB",
      "execution_count": 8,
      "outputs": [
        {
          "output_type": "execute_result",
          "data": {
            "text/plain": [
              "object     14\n",
              "int64       2\n",
              "float64     1\n",
              "dtype: int64"
            ]
          },
          "metadata": {},
          "execution_count": 8
        }
      ]
    },
    {
      "cell_type": "markdown",
      "id": "5e63573c",
      "metadata": {
        "id": "5e63573c"
      },
      "source": [
        "### Ans 1 d)"
      ]
    },
    {
      "cell_type": "code",
      "execution_count": 9,
      "id": "2b96d5be",
      "metadata": {
        "colab": {
          "base_uri": "https://localhost:8080/"
        },
        "id": "2b96d5be",
        "outputId": "6a6dec17-3658-4acf-e49b-47f89cf1f832"
      },
      "outputs": [
        {
          "output_type": "execute_result",
          "data": {
            "text/plain": [
              "False"
            ]
          },
          "metadata": {},
          "execution_count": 9
        }
      ],
      "source": [
        "ECom_Data.dtypes.name == 'bool'"
      ]
    },
    {
      "cell_type": "markdown",
      "id": "cc5d76f1",
      "metadata": {
        "id": "cc5d76f1"
      },
      "source": [
        "<font color='blue'>\n",
        "    <font size = 5>\n",
        " Once you are familiar with the data, you may decide that not all features are of use to you and you may want to delete the non-informative features (columns)</font>"
      ]
    },
    {
      "cell_type": "markdown",
      "id": "90db65ce",
      "metadata": {
        "id": "90db65ce"
      },
      "source": [
        "## Q 2.\tEliminating the non-informative columns.\n",
        "## a)\tDrop the columns product_specifications and description. (2 marks) \n",
        "## b)\tWhich method or function is used to permanently delete the columns mentioned in part (a)? Write the code explicitly (2 marks)\n",
        "### Note: Use the markdown feature of Python to explain your answer.\n"
      ]
    },
    {
      "cell_type": "markdown",
      "id": "e0e7e762",
      "metadata": {
        "id": "e0e7e762"
      },
      "source": [
        "### Ans 2 a)"
      ]
    },
    {
      "cell_type": "code",
      "execution_count": 10,
      "id": "35ad0821",
      "metadata": {
        "colab": {
          "base_uri": "https://localhost:8080/"
        },
        "id": "35ad0821",
        "outputId": "239c0ac0-bb8a-41f9-c9c3-6fe2f317adc7"
      },
      "outputs": [
        {
          "output_type": "execute_result",
          "data": {
            "text/plain": [
              "Index(['Customer_uniq_id', 'Region', 'Order_Date', 'Expected_Delivery_Date',\n",
              "       'Delivered_Date', 'product_name', 'product_main_category',\n",
              "       'product_subcategory', 'product_category_filter',\n",
              "       'product_category_subfilter', 'product_unique ID', 'retail_price',\n",
              "       'discounted_price', 'product_rating', 'Brand', 'product_specifications',\n",
              "       'description'],\n",
              "      dtype='object')"
            ]
          },
          "metadata": {},
          "execution_count": 10
        }
      ],
      "source": [
        "ECom_Data.columns"
      ]
    },
    {
      "cell_type": "code",
      "source": [
        "#column is partially deleted\n",
        "ECom_Data.drop(['product_specifications','description'],axis=1)"
      ],
      "metadata": {
        "colab": {
          "base_uri": "https://localhost:8080/",
          "height": 956
        },
        "id": "IKMad40fPyE5",
        "outputId": "70938168-b81a-4f97-d4c7-36d65d4c8aa5"
      },
      "id": "IKMad40fPyE5",
      "execution_count": 11,
      "outputs": [
        {
          "output_type": "execute_result",
          "data": {
            "text/plain": [
              "                      Customer_uniq_id Region  Order_Date  \\\n",
              "0     c2d766ca982eca8304150849735ffef9  North  31-12-2021   \n",
              "1     7f7036a6d550aaa89d34c77bd39a5e48  East   31-12-2021   \n",
              "2     f449ec65dcbc041b6ae5e6a32717d01b  East   31-12-2021   \n",
              "3     0973b37acd0c664e3de26e97e5571454   West  31-12-2021   \n",
              "4     bc940ea42ee6bef5ac7cea3fb5cfbee7   West  31-12-2021   \n",
              "...                                ...    ...         ...   \n",
              "8922  90d30478255e23621e8929ed15c2f6e4  South  01-12-2020   \n",
              "8923  20a73e3f41490a73ceeba5f17658db8f   West  01-12-2020   \n",
              "8924  5c1554cd45f9d538c2c6947dbdd59c75  East   01-12-2020   \n",
              "8925  6b737a4deca1ed0e56c179e66036e994   West  01-12-2020   \n",
              "8926  a5235ac28d3d5487f54025f9d6b57433  North  01-12-2020   \n",
              "\n",
              "     Expected_Delivery_Date Delivered_Date  \\\n",
              "0                03-01-2022     02-01-2022   \n",
              "1                03-01-2022     02-01-2022   \n",
              "2                03-01-2022     02-01-2022   \n",
              "3                03-01-2022     02-01-2022   \n",
              "4                03-01-2022     02-01-2022   \n",
              "...                     ...            ...   \n",
              "8922             04-12-2020     04-12-2020   \n",
              "8923             04-12-2020     04-12-2020   \n",
              "8924             04-12-2020     04-12-2020   \n",
              "8925             04-12-2020     04-12-2020   \n",
              "8926             04-12-2020     04-12-2020   \n",
              "\n",
              "                                           product_name product_main_category  \\\n",
              "0                   Alisha Solid Women's Cycling Shorts             Clothing    \n",
              "1                   FabHomeDecor Fabric Double Sofa Bed            Furniture    \n",
              "2                                            AW Bellies             Footwear    \n",
              "3                   Alisha Solid Women's Cycling Shorts             Clothing    \n",
              "4                 Sicons All Purpose Arnica Dog Shampoo         Pet Supplies    \n",
              "...                                                 ...                   ...   \n",
              "8922  Sinina Chanderi Embroidered Salwar Suit Dupatt...             Clothing    \n",
              "8923  Aarushi Fashion Chanderi Embroidered Salwar Su...             Clothing    \n",
              "8924  Ambika Lahenga Embroidered Lehenga, Choli and ...             Clothing    \n",
              "8925  Sinina Chanderi Embroidered Salwar Suit Dupatt...             Clothing    \n",
              "8926  Aarushi Fashion Silk Striped Salwar Suit Dupat...             Clothing    \n",
              "\n",
              "          product_subcategory       product_category_filter  \\\n",
              "0           Women's Clothing    Lingerie, Sleep & Swimwear    \n",
              "1      Living Room Furniture            Sofa Beds & Futons    \n",
              "2           Women's Footwear                    Ballerinas    \n",
              "3           Women's Clothing    Lingerie, Sleep & Swimwear    \n",
              "4                   Grooming              Skin & Coat Care    \n",
              "...                       ...                           ...   \n",
              "8922        Women's Clothing                   Ethnic Wear    \n",
              "8923        Women's Clothing                   Ethnic Wear    \n",
              "8924        Women's Clothing                   Ethnic Wear    \n",
              "8925        Women's Clothing                   Ethnic Wear    \n",
              "8926        Women's Clothing                   Ethnic Wear    \n",
              "\n",
              "                             product_category_subfilter product_unique ID  \\\n",
              "0                                               Shorts   SRTEH2FF9KEDEFGF   \n",
              "1      FabHomeDecor Fabric Double Sofa Bed (Finish C...  SBEEH3QGU7MFYJFY   \n",
              "2                                            AW Bellies  SHOEH4GRSUBJGZXE   \n",
              "3                                               Shorts   SRTEH2F6HUZMQ6SJ   \n",
              "4                                              Shampoo   PSOEH3ZYDMSYARJ5   \n",
              "...                                                 ...               ...   \n",
              "8922                                            Fabric   FABEGGHHDFMY8BZU   \n",
              "8923                                            Fabric   FABEG8GFDUWRSNU3   \n",
              "8924                                    Lehenga Cholis   LEHEGGEHYN4G2RPW   \n",
              "8925                                            Fabric   FABEGGHHGSVCHGFV   \n",
              "8926                                            Fabric   FABEG8GYDAABECZH   \n",
              "\n",
              "      retail_price  discounted_price  product_rating            Brand  \n",
              "0              999               379             2.0           Alisha  \n",
              "1            32157             22646             2.0     FabHomeDecor  \n",
              "2              999               499             1.0               AW  \n",
              "3              699               267             5.0           Alisha  \n",
              "4              220               210             5.0           Sicons  \n",
              "...            ...               ...             ...              ...  \n",
              "8922          2980              1490             3.0           Sinina  \n",
              "8923          2600              1300             1.0  Aarushi Fashion  \n",
              "8924         39992             24995             1.0   Ambika Lahenga  \n",
              "8925          2000              1000             3.0           Sinina  \n",
              "8926          2800              1350             4.0  Aarushi Fashion  \n",
              "\n",
              "[8927 rows x 15 columns]"
            ],
            "text/html": [
              "\n",
              "  <div id=\"df-1aca0bd3-229a-4c25-bf14-5f7c642e63c1\">\n",
              "    <div class=\"colab-df-container\">\n",
              "      <div>\n",
              "<style scoped>\n",
              "    .dataframe tbody tr th:only-of-type {\n",
              "        vertical-align: middle;\n",
              "    }\n",
              "\n",
              "    .dataframe tbody tr th {\n",
              "        vertical-align: top;\n",
              "    }\n",
              "\n",
              "    .dataframe thead th {\n",
              "        text-align: right;\n",
              "    }\n",
              "</style>\n",
              "<table border=\"1\" class=\"dataframe\">\n",
              "  <thead>\n",
              "    <tr style=\"text-align: right;\">\n",
              "      <th></th>\n",
              "      <th>Customer_uniq_id</th>\n",
              "      <th>Region</th>\n",
              "      <th>Order_Date</th>\n",
              "      <th>Expected_Delivery_Date</th>\n",
              "      <th>Delivered_Date</th>\n",
              "      <th>product_name</th>\n",
              "      <th>product_main_category</th>\n",
              "      <th>product_subcategory</th>\n",
              "      <th>product_category_filter</th>\n",
              "      <th>product_category_subfilter</th>\n",
              "      <th>product_unique ID</th>\n",
              "      <th>retail_price</th>\n",
              "      <th>discounted_price</th>\n",
              "      <th>product_rating</th>\n",
              "      <th>Brand</th>\n",
              "    </tr>\n",
              "  </thead>\n",
              "  <tbody>\n",
              "    <tr>\n",
              "      <th>0</th>\n",
              "      <td>c2d766ca982eca8304150849735ffef9</td>\n",
              "      <td>North</td>\n",
              "      <td>31-12-2021</td>\n",
              "      <td>03-01-2022</td>\n",
              "      <td>02-01-2022</td>\n",
              "      <td>Alisha Solid Women's Cycling Shorts</td>\n",
              "      <td>Clothing</td>\n",
              "      <td>Women's Clothing</td>\n",
              "      <td>Lingerie, Sleep &amp; Swimwear</td>\n",
              "      <td>Shorts</td>\n",
              "      <td>SRTEH2FF9KEDEFGF</td>\n",
              "      <td>999</td>\n",
              "      <td>379</td>\n",
              "      <td>2.0</td>\n",
              "      <td>Alisha</td>\n",
              "    </tr>\n",
              "    <tr>\n",
              "      <th>1</th>\n",
              "      <td>7f7036a6d550aaa89d34c77bd39a5e48</td>\n",
              "      <td>East</td>\n",
              "      <td>31-12-2021</td>\n",
              "      <td>03-01-2022</td>\n",
              "      <td>02-01-2022</td>\n",
              "      <td>FabHomeDecor Fabric Double Sofa Bed</td>\n",
              "      <td>Furniture</td>\n",
              "      <td>Living Room Furniture</td>\n",
              "      <td>Sofa Beds &amp; Futons</td>\n",
              "      <td>FabHomeDecor Fabric Double Sofa Bed (Finish C...</td>\n",
              "      <td>SBEEH3QGU7MFYJFY</td>\n",
              "      <td>32157</td>\n",
              "      <td>22646</td>\n",
              "      <td>2.0</td>\n",
              "      <td>FabHomeDecor</td>\n",
              "    </tr>\n",
              "    <tr>\n",
              "      <th>2</th>\n",
              "      <td>f449ec65dcbc041b6ae5e6a32717d01b</td>\n",
              "      <td>East</td>\n",
              "      <td>31-12-2021</td>\n",
              "      <td>03-01-2022</td>\n",
              "      <td>02-01-2022</td>\n",
              "      <td>AW Bellies</td>\n",
              "      <td>Footwear</td>\n",
              "      <td>Women's Footwear</td>\n",
              "      <td>Ballerinas</td>\n",
              "      <td>AW Bellies</td>\n",
              "      <td>SHOEH4GRSUBJGZXE</td>\n",
              "      <td>999</td>\n",
              "      <td>499</td>\n",
              "      <td>1.0</td>\n",
              "      <td>AW</td>\n",
              "    </tr>\n",
              "    <tr>\n",
              "      <th>3</th>\n",
              "      <td>0973b37acd0c664e3de26e97e5571454</td>\n",
              "      <td>West</td>\n",
              "      <td>31-12-2021</td>\n",
              "      <td>03-01-2022</td>\n",
              "      <td>02-01-2022</td>\n",
              "      <td>Alisha Solid Women's Cycling Shorts</td>\n",
              "      <td>Clothing</td>\n",
              "      <td>Women's Clothing</td>\n",
              "      <td>Lingerie, Sleep &amp; Swimwear</td>\n",
              "      <td>Shorts</td>\n",
              "      <td>SRTEH2F6HUZMQ6SJ</td>\n",
              "      <td>699</td>\n",
              "      <td>267</td>\n",
              "      <td>5.0</td>\n",
              "      <td>Alisha</td>\n",
              "    </tr>\n",
              "    <tr>\n",
              "      <th>4</th>\n",
              "      <td>bc940ea42ee6bef5ac7cea3fb5cfbee7</td>\n",
              "      <td>West</td>\n",
              "      <td>31-12-2021</td>\n",
              "      <td>03-01-2022</td>\n",
              "      <td>02-01-2022</td>\n",
              "      <td>Sicons All Purpose Arnica Dog Shampoo</td>\n",
              "      <td>Pet Supplies</td>\n",
              "      <td>Grooming</td>\n",
              "      <td>Skin &amp; Coat Care</td>\n",
              "      <td>Shampoo</td>\n",
              "      <td>PSOEH3ZYDMSYARJ5</td>\n",
              "      <td>220</td>\n",
              "      <td>210</td>\n",
              "      <td>5.0</td>\n",
              "      <td>Sicons</td>\n",
              "    </tr>\n",
              "    <tr>\n",
              "      <th>...</th>\n",
              "      <td>...</td>\n",
              "      <td>...</td>\n",
              "      <td>...</td>\n",
              "      <td>...</td>\n",
              "      <td>...</td>\n",
              "      <td>...</td>\n",
              "      <td>...</td>\n",
              "      <td>...</td>\n",
              "      <td>...</td>\n",
              "      <td>...</td>\n",
              "      <td>...</td>\n",
              "      <td>...</td>\n",
              "      <td>...</td>\n",
              "      <td>...</td>\n",
              "      <td>...</td>\n",
              "    </tr>\n",
              "    <tr>\n",
              "      <th>8922</th>\n",
              "      <td>90d30478255e23621e8929ed15c2f6e4</td>\n",
              "      <td>South</td>\n",
              "      <td>01-12-2020</td>\n",
              "      <td>04-12-2020</td>\n",
              "      <td>04-12-2020</td>\n",
              "      <td>Sinina Chanderi Embroidered Salwar Suit Dupatt...</td>\n",
              "      <td>Clothing</td>\n",
              "      <td>Women's Clothing</td>\n",
              "      <td>Ethnic Wear</td>\n",
              "      <td>Fabric</td>\n",
              "      <td>FABEGGHHDFMY8BZU</td>\n",
              "      <td>2980</td>\n",
              "      <td>1490</td>\n",
              "      <td>3.0</td>\n",
              "      <td>Sinina</td>\n",
              "    </tr>\n",
              "    <tr>\n",
              "      <th>8923</th>\n",
              "      <td>20a73e3f41490a73ceeba5f17658db8f</td>\n",
              "      <td>West</td>\n",
              "      <td>01-12-2020</td>\n",
              "      <td>04-12-2020</td>\n",
              "      <td>04-12-2020</td>\n",
              "      <td>Aarushi Fashion Chanderi Embroidered Salwar Su...</td>\n",
              "      <td>Clothing</td>\n",
              "      <td>Women's Clothing</td>\n",
              "      <td>Ethnic Wear</td>\n",
              "      <td>Fabric</td>\n",
              "      <td>FABEG8GFDUWRSNU3</td>\n",
              "      <td>2600</td>\n",
              "      <td>1300</td>\n",
              "      <td>1.0</td>\n",
              "      <td>Aarushi Fashion</td>\n",
              "    </tr>\n",
              "    <tr>\n",
              "      <th>8924</th>\n",
              "      <td>5c1554cd45f9d538c2c6947dbdd59c75</td>\n",
              "      <td>East</td>\n",
              "      <td>01-12-2020</td>\n",
              "      <td>04-12-2020</td>\n",
              "      <td>04-12-2020</td>\n",
              "      <td>Ambika Lahenga Embroidered Lehenga, Choli and ...</td>\n",
              "      <td>Clothing</td>\n",
              "      <td>Women's Clothing</td>\n",
              "      <td>Ethnic Wear</td>\n",
              "      <td>Lehenga Cholis</td>\n",
              "      <td>LEHEGGEHYN4G2RPW</td>\n",
              "      <td>39992</td>\n",
              "      <td>24995</td>\n",
              "      <td>1.0</td>\n",
              "      <td>Ambika Lahenga</td>\n",
              "    </tr>\n",
              "    <tr>\n",
              "      <th>8925</th>\n",
              "      <td>6b737a4deca1ed0e56c179e66036e994</td>\n",
              "      <td>West</td>\n",
              "      <td>01-12-2020</td>\n",
              "      <td>04-12-2020</td>\n",
              "      <td>04-12-2020</td>\n",
              "      <td>Sinina Chanderi Embroidered Salwar Suit Dupatt...</td>\n",
              "      <td>Clothing</td>\n",
              "      <td>Women's Clothing</td>\n",
              "      <td>Ethnic Wear</td>\n",
              "      <td>Fabric</td>\n",
              "      <td>FABEGGHHGSVCHGFV</td>\n",
              "      <td>2000</td>\n",
              "      <td>1000</td>\n",
              "      <td>3.0</td>\n",
              "      <td>Sinina</td>\n",
              "    </tr>\n",
              "    <tr>\n",
              "      <th>8926</th>\n",
              "      <td>a5235ac28d3d5487f54025f9d6b57433</td>\n",
              "      <td>North</td>\n",
              "      <td>01-12-2020</td>\n",
              "      <td>04-12-2020</td>\n",
              "      <td>04-12-2020</td>\n",
              "      <td>Aarushi Fashion Silk Striped Salwar Suit Dupat...</td>\n",
              "      <td>Clothing</td>\n",
              "      <td>Women's Clothing</td>\n",
              "      <td>Ethnic Wear</td>\n",
              "      <td>Fabric</td>\n",
              "      <td>FABEG8GYDAABECZH</td>\n",
              "      <td>2800</td>\n",
              "      <td>1350</td>\n",
              "      <td>4.0</td>\n",
              "      <td>Aarushi Fashion</td>\n",
              "    </tr>\n",
              "  </tbody>\n",
              "</table>\n",
              "<p>8927 rows × 15 columns</p>\n",
              "</div>\n",
              "      <button class=\"colab-df-convert\" onclick=\"convertToInteractive('df-1aca0bd3-229a-4c25-bf14-5f7c642e63c1')\"\n",
              "              title=\"Convert this dataframe to an interactive table.\"\n",
              "              style=\"display:none;\">\n",
              "        \n",
              "  <svg xmlns=\"http://www.w3.org/2000/svg\" height=\"24px\"viewBox=\"0 0 24 24\"\n",
              "       width=\"24px\">\n",
              "    <path d=\"M0 0h24v24H0V0z\" fill=\"none\"/>\n",
              "    <path d=\"M18.56 5.44l.94 2.06.94-2.06 2.06-.94-2.06-.94-.94-2.06-.94 2.06-2.06.94zm-11 1L8.5 8.5l.94-2.06 2.06-.94-2.06-.94L8.5 2.5l-.94 2.06-2.06.94zm10 10l.94 2.06.94-2.06 2.06-.94-2.06-.94-.94-2.06-.94 2.06-2.06.94z\"/><path d=\"M17.41 7.96l-1.37-1.37c-.4-.4-.92-.59-1.43-.59-.52 0-1.04.2-1.43.59L10.3 9.45l-7.72 7.72c-.78.78-.78 2.05 0 2.83L4 21.41c.39.39.9.59 1.41.59.51 0 1.02-.2 1.41-.59l7.78-7.78 2.81-2.81c.8-.78.8-2.07 0-2.86zM5.41 20L4 18.59l7.72-7.72 1.47 1.35L5.41 20z\"/>\n",
              "  </svg>\n",
              "      </button>\n",
              "      \n",
              "  <style>\n",
              "    .colab-df-container {\n",
              "      display:flex;\n",
              "      flex-wrap:wrap;\n",
              "      gap: 12px;\n",
              "    }\n",
              "\n",
              "    .colab-df-convert {\n",
              "      background-color: #E8F0FE;\n",
              "      border: none;\n",
              "      border-radius: 50%;\n",
              "      cursor: pointer;\n",
              "      display: none;\n",
              "      fill: #1967D2;\n",
              "      height: 32px;\n",
              "      padding: 0 0 0 0;\n",
              "      width: 32px;\n",
              "    }\n",
              "\n",
              "    .colab-df-convert:hover {\n",
              "      background-color: #E2EBFA;\n",
              "      box-shadow: 0px 1px 2px rgba(60, 64, 67, 0.3), 0px 1px 3px 1px rgba(60, 64, 67, 0.15);\n",
              "      fill: #174EA6;\n",
              "    }\n",
              "\n",
              "    [theme=dark] .colab-df-convert {\n",
              "      background-color: #3B4455;\n",
              "      fill: #D2E3FC;\n",
              "    }\n",
              "\n",
              "    [theme=dark] .colab-df-convert:hover {\n",
              "      background-color: #434B5C;\n",
              "      box-shadow: 0px 1px 3px 1px rgba(0, 0, 0, 0.15);\n",
              "      filter: drop-shadow(0px 1px 2px rgba(0, 0, 0, 0.3));\n",
              "      fill: #FFFFFF;\n",
              "    }\n",
              "  </style>\n",
              "\n",
              "      <script>\n",
              "        const buttonEl =\n",
              "          document.querySelector('#df-1aca0bd3-229a-4c25-bf14-5f7c642e63c1 button.colab-df-convert');\n",
              "        buttonEl.style.display =\n",
              "          google.colab.kernel.accessAllowed ? 'block' : 'none';\n",
              "\n",
              "        async function convertToInteractive(key) {\n",
              "          const element = document.querySelector('#df-1aca0bd3-229a-4c25-bf14-5f7c642e63c1');\n",
              "          const dataTable =\n",
              "            await google.colab.kernel.invokeFunction('convertToInteractive',\n",
              "                                                     [key], {});\n",
              "          if (!dataTable) return;\n",
              "\n",
              "          const docLinkHtml = 'Like what you see? Visit the ' +\n",
              "            '<a target=\"_blank\" href=https://colab.research.google.com/notebooks/data_table.ipynb>data table notebook</a>'\n",
              "            + ' to learn more about interactive tables.';\n",
              "          element.innerHTML = '';\n",
              "          dataTable['output_type'] = 'display_data';\n",
              "          await google.colab.output.renderOutput(dataTable, element);\n",
              "          const docLink = document.createElement('div');\n",
              "          docLink.innerHTML = docLinkHtml;\n",
              "          element.appendChild(docLink);\n",
              "        }\n",
              "      </script>\n",
              "    </div>\n",
              "  </div>\n",
              "  "
            ]
          },
          "metadata": {},
          "execution_count": 11
        }
      ]
    },
    {
      "cell_type": "code",
      "source": [
        "ECom_Data.columns"
      ],
      "metadata": {
        "colab": {
          "base_uri": "https://localhost:8080/"
        },
        "id": "543AH21yP-ww",
        "outputId": "157d013b-6a80-4bca-e272-74f68336a6a8"
      },
      "id": "543AH21yP-ww",
      "execution_count": 12,
      "outputs": [
        {
          "output_type": "execute_result",
          "data": {
            "text/plain": [
              "Index(['Customer_uniq_id', 'Region', 'Order_Date', 'Expected_Delivery_Date',\n",
              "       'Delivered_Date', 'product_name', 'product_main_category',\n",
              "       'product_subcategory', 'product_category_filter',\n",
              "       'product_category_subfilter', 'product_unique ID', 'retail_price',\n",
              "       'discounted_price', 'product_rating', 'Brand', 'product_specifications',\n",
              "       'description'],\n",
              "      dtype='object')"
            ]
          },
          "metadata": {},
          "execution_count": 12
        }
      ]
    },
    {
      "cell_type": "markdown",
      "id": "e6159f6a",
      "metadata": {
        "id": "e6159f6a"
      },
      "source": [
        "### Ans 2 b)"
      ]
    },
    {
      "cell_type": "code",
      "source": [
        "ECom_Data.columns"
      ],
      "metadata": {
        "colab": {
          "base_uri": "https://localhost:8080/"
        },
        "id": "9yHsFJx3QkIR",
        "outputId": "3722275f-cc9f-4f45-a5d3-fa4f224bc9e7"
      },
      "id": "9yHsFJx3QkIR",
      "execution_count": 13,
      "outputs": [
        {
          "output_type": "execute_result",
          "data": {
            "text/plain": [
              "Index(['Customer_uniq_id', 'Region', 'Order_Date', 'Expected_Delivery_Date',\n",
              "       'Delivered_Date', 'product_name', 'product_main_category',\n",
              "       'product_subcategory', 'product_category_filter',\n",
              "       'product_category_subfilter', 'product_unique ID', 'retail_price',\n",
              "       'discounted_price', 'product_rating', 'Brand', 'product_specifications',\n",
              "       'description'],\n",
              "      dtype='object')"
            ]
          },
          "metadata": {},
          "execution_count": 13
        }
      ]
    },
    {
      "cell_type": "code",
      "execution_count": 14,
      "id": "47a63265",
      "metadata": {
        "id": "47a63265"
      },
      "outputs": [],
      "source": [
        "#columns is permanently deleted using the inplace function\n",
        "ECom_Data.drop(['product_specifications','description'],axis=1,inplace=True)"
      ]
    },
    {
      "cell_type": "code",
      "source": [
        "ECom_Data.columns"
      ],
      "metadata": {
        "colab": {
          "base_uri": "https://localhost:8080/"
        },
        "id": "w_ITtG7xQniD",
        "outputId": "ed337497-1086-429b-c2eb-65e7b874c274"
      },
      "id": "w_ITtG7xQniD",
      "execution_count": 15,
      "outputs": [
        {
          "output_type": "execute_result",
          "data": {
            "text/plain": [
              "Index(['Customer_uniq_id', 'Region', 'Order_Date', 'Expected_Delivery_Date',\n",
              "       'Delivered_Date', 'product_name', 'product_main_category',\n",
              "       'product_subcategory', 'product_category_filter',\n",
              "       'product_category_subfilter', 'product_unique ID', 'retail_price',\n",
              "       'discounted_price', 'product_rating', 'Brand'],\n",
              "      dtype='object')"
            ]
          },
          "metadata": {},
          "execution_count": 15
        }
      ]
    },
    {
      "cell_type": "markdown",
      "id": "cde421e0",
      "metadata": {
        "id": "cde421e0"
      },
      "source": [
        "<font color='blue'>\n",
        "    <font size = 5>\n",
        "        The next steps in this project involves summarization of data at various levels and visualization. Apparently, such simple steps are very useful to get an overall sense of the data.\n",
        "    </font>"
      ]
    },
    {
      "cell_type": "markdown",
      "id": "41c30ad7",
      "metadata": {
        "id": "41c30ad7"
      },
      "source": [
        "## Q 3. Here we summarize the data at Brand level.\n",
        "## a) How many unique Brand are there? (2 marks)\n",
        "## b) Note that each Brand contains multiple products. Show the average product_rating within each Brand (2 marks)\n"
      ]
    },
    {
      "cell_type": "markdown",
      "id": "beb3f83f",
      "metadata": {
        "id": "beb3f83f"
      },
      "source": [
        "### Ans 3 a)"
      ]
    },
    {
      "cell_type": "code",
      "execution_count": 16,
      "id": "41dcb79f",
      "metadata": {
        "colab": {
          "base_uri": "https://localhost:8080/"
        },
        "id": "41dcb79f",
        "outputId": "e12fa957-be71-42c7-f177-6cee423b445f"
      },
      "outputs": [
        {
          "output_type": "execute_result",
          "data": {
            "text/plain": [
              "2580"
            ]
          },
          "metadata": {},
          "execution_count": 16
        }
      ],
      "source": [
        "len(ECom_Data['Brand'].unique())"
      ]
    },
    {
      "cell_type": "markdown",
      "id": "5083d866",
      "metadata": {
        "id": "5083d866"
      },
      "source": [
        "### Ans 3 b)"
      ]
    },
    {
      "cell_type": "code",
      "source": [
        "avg_rating = ECom_Data.groupby('Brand')['product_rating'].agg(np.mean)"
      ],
      "metadata": {
        "id": "fumrXm0ATC9f"
      },
      "id": "fumrXm0ATC9f",
      "execution_count": 17,
      "outputs": []
    },
    {
      "cell_type": "code",
      "source": [
        "#average product rating all brand\n",
        "avg_rating.head()"
      ],
      "metadata": {
        "colab": {
          "base_uri": "https://localhost:8080/"
        },
        "id": "cMWSmIxlTpl5",
        "outputId": "68b786ca-9da5-4d9b-e8a8-f57177d4da6d"
      },
      "id": "cMWSmIxlTpl5",
      "execution_count": 18,
      "outputs": [
        {
          "output_type": "execute_result",
          "data": {
            "text/plain": [
              "Brand\n",
              "1OAK           1.500000\n",
              "3A AUTOCARE    3.268293\n",
              "3D Mat         3.000000\n",
              "3kFactory      2.000000\n",
              "4D             3.600000\n",
              "Name: product_rating, dtype: float64"
            ]
          },
          "metadata": {},
          "execution_count": 18
        }
      ]
    },
    {
      "cell_type": "markdown",
      "id": "bbf162af",
      "metadata": {
        "id": "bbf162af"
      },
      "source": [
        "## Q 4. Next we study the main categories of the products.\n",
        "\n",
        "## a) Create an appropriate plot to show the count of items ordered for each product_main_category. (6 marks).\n",
        "\n",
        "### Hint: Create a bar chart titled \"Product Category type\" where product_main_category are on x-axis and counts are on y-axis.\n",
        "\n",
        "### Note: Both axis labels, i.e. the names of the product_main_category and counts must be clearly legible. \n",
        "\n",
        "## b) From the plot identify for which two product_main_category(s)  maximum and minimum orders were placed. (2 marks)\n",
        "\n",
        "## c) Write code to print out the top 5 product_main_category(s)  in descending order? (3 marks"
      ]
    },
    {
      "cell_type": "markdown",
      "id": "36c72928",
      "metadata": {
        "id": "36c72928"
      },
      "source": [
        "### Ans 4 a)"
      ]
    },
    {
      "cell_type": "code",
      "execution_count": 19,
      "id": "f60dd2c1",
      "metadata": {
        "colab": {
          "base_uri": "https://localhost:8080/",
          "height": 710
        },
        "id": "f60dd2c1",
        "outputId": "d5cdc658-6ad4-4257-c017-17853048b944"
      },
      "outputs": [
        {
          "output_type": "execute_result",
          "data": {
            "text/plain": [
              "(array([ 0,  1,  2,  3,  4,  5,  6,  7,  8,  9, 10, 11, 12, 13, 14, 15, 16,\n",
              "        17, 18, 19, 20, 21, 22, 23, 24, 25]),\n",
              " <a list of 26 Text major ticklabel objects>)"
            ]
          },
          "metadata": {},
          "execution_count": 19
        },
        {
          "output_type": "display_data",
          "data": {
            "text/plain": [
              "<Figure size 1080x576 with 1 Axes>"
            ],
            "image/png": "[encoded data removed]"
          },
          "metadata": {}
        }
      ],
      "source": [
        "sns.set(rc = {'figure.figsize':(15,8)})\n",
        "ax=sns.countplot(x='product_main_category',hue='product_main_category',data=ECom_Data)\n",
        "plt.xticks(rotation=90)"
      ]
    },
    {
      "cell_type": "markdown",
      "id": "13a5b355",
      "metadata": {
        "id": "13a5b355"
      },
      "source": [
        "### Ans 4 b)"
      ]
    },
    {
      "cell_type": "code",
      "execution_count": 20,
      "id": "24d3f75c",
      "metadata": {
        "colab": {
          "base_uri": "https://localhost:8080/",
          "height": 619
        },
        "id": "24d3f75c",
        "outputId": "47e1af6d-cb9a-4ada-b282-32498ed8c1a4"
      },
      "outputs": [
        {
          "output_type": "execute_result",
          "data": {
            "text/plain": [
              "<matplotlib.axes._subplots.AxesSubplot at 0x7f2aa16ecdd0>"
            ]
          },
          "metadata": {},
          "execution_count": 20
        },
        {
          "output_type": "display_data",
          "data": {
            "text/plain": [
              "<Figure size 1080x576 with 1 Axes>"
            ],
            "image/png": "[encoded data removed]"
          },
          "metadata": {}
        }
      ],
      "source": [
        "#clothing and mobile accessories have large place.\n",
        "ECom_Data['product_main_category'].value_counts()[:2].sort_values(ascending=True).plot(kind='bar',color='r')"
      ]
    },
    {
      "cell_type": "code",
      "source": [
        "#wearble smart devices and food nutrition have minimum order \n",
        "ECom_Data['product_main_category'].value_counts().sort_values().plot(kind='bar',color='r')"
      ],
      "metadata": {
        "colab": {
          "base_uri": "https://localhost:8080/",
          "height": 658
        },
        "id": "qoojpb9zQ72Y",
        "outputId": "c0bf372c-ba46-41ef-a8d0-8863877e00f0"
      },
      "id": "qoojpb9zQ72Y",
      "execution_count": 21,
      "outputs": [
        {
          "output_type": "execute_result",
          "data": {
            "text/plain": [
              "<matplotlib.axes._subplots.AxesSubplot at 0x7f2aa17304d0>"
            ]
          },
          "metadata": {},
          "execution_count": 21
        },
        {
          "output_type": "display_data",
          "data": {
            "text/plain": [
              "<Figure size 1080x576 with 1 Axes>"
            ],
            "image/png": "[encoded data removed]"
          },
          "metadata": {}
        }
      ]
    },
    {
      "cell_type": "markdown",
      "id": "4ea60c92",
      "metadata": {
        "id": "4ea60c92"
      },
      "source": [
        "### Ans 4 c)"
      ]
    },
    {
      "cell_type": "code",
      "execution_count": 22,
      "id": "7f704116",
      "metadata": {
        "colab": {
          "base_uri": "https://localhost:8080/",
          "height": 336
        },
        "id": "7f704116",
        "outputId": "beb21e7e-8782-4d4b-ba73-40e1344749c4"
      },
      "outputs": [
        {
          "output_type": "execute_result",
          "data": {
            "text/plain": [
              "                         Customer_uniq_id  Region  Order_Date  \\\n",
              "product_main_category                                           \n",
              "Wearable Smart Devices                  1       1           1   \n",
              "Watches                                48      48          48   \n",
              "Toys & School Supplies                 96      96          96   \n",
              "Tools & Hardware                      377     377         377   \n",
              "Sports & Fitness                      100     100         100   \n",
              "\n",
              "                         Expected_Delivery_Date  Delivered_Date  product_name  \\\n",
              "product_main_category                                                           \n",
              "Wearable Smart Devices                        1               1             1   \n",
              "Watches                                      48              48            48   \n",
              "Toys & School Supplies                       96              96            96   \n",
              "Tools & Hardware                            377             377           377   \n",
              "Sports & Fitness                            100             100           100   \n",
              "\n",
              "                         product_subcategory  product_category_filter  \\\n",
              "product_main_category                                                   \n",
              "Wearable Smart Devices                     1                        1   \n",
              "Watches                                   48                       48   \n",
              "Toys & School Supplies                    96                       96   \n",
              "Tools & Hardware                         377                      377   \n",
              "Sports & Fitness                         100                      100   \n",
              "\n",
              "                         product_category_subfilter  product_unique ID  \\\n",
              "product_main_category                                                    \n",
              "Wearable Smart Devices                            1                  1   \n",
              "Watches                                          48                 48   \n",
              "Toys & School Supplies                           96                 96   \n",
              "Tools & Hardware                                377                377   \n",
              "Sports & Fitness                                100                100   \n",
              "\n",
              "                         retail_price  discounted_price  product_rating  Brand  \n",
              "product_main_category                                                           \n",
              "Wearable Smart Devices              1                 1               1      1  \n",
              "Watches                            48                48              48     48  \n",
              "Toys & School Supplies             96                96              96     96  \n",
              "Tools & Hardware                  377               377             377    377  \n",
              "Sports & Fitness                  100               100             100    100  "
            ],
            "text/html": [
              "\n",
              "  <div id=\"df-025b841b-b3aa-4f1e-9ba4-0b6d73359266\">\n",
              "    <div class=\"colab-df-container\">\n",
              "      <div>\n",
              "<style scoped>\n",
              "    .dataframe tbody tr th:only-of-type {\n",
              "        vertical-align: middle;\n",
              "    }\n",
              "\n",
              "    .dataframe tbody tr th {\n",
              "        vertical-align: top;\n",
              "    }\n",
              "\n",
              "    .dataframe thead th {\n",
              "        text-align: right;\n",
              "    }\n",
              "</style>\n",
              "<table border=\"1\" class=\"dataframe\">\n",
              "  <thead>\n",
              "    <tr style=\"text-align: right;\">\n",
              "      <th></th>\n",
              "      <th>Customer_uniq_id</th>\n",
              "      <th>Region</th>\n",
              "      <th>Order_Date</th>\n",
              "      <th>Expected_Delivery_Date</th>\n",
              "      <th>Delivered_Date</th>\n",
              "      <th>product_name</th>\n",
              "      <th>product_subcategory</th>\n",
              "      <th>product_category_filter</th>\n",
              "      <th>product_category_subfilter</th>\n",
              "      <th>product_unique ID</th>\n",
              "      <th>retail_price</th>\n",
              "      <th>discounted_price</th>\n",
              "      <th>product_rating</th>\n",
              "      <th>Brand</th>\n",
              "    </tr>\n",
              "    <tr>\n",
              "      <th>product_main_category</th>\n",
              "      <th></th>\n",
              "      <th></th>\n",
              "      <th></th>\n",
              "      <th></th>\n",
              "      <th></th>\n",
              "      <th></th>\n",
              "      <th></th>\n",
              "      <th></th>\n",
              "      <th></th>\n",
              "      <th></th>\n",
              "      <th></th>\n",
              "      <th></th>\n",
              "      <th></th>\n",
              "      <th></th>\n",
              "    </tr>\n",
              "  </thead>\n",
              "  <tbody>\n",
              "    <tr>\n",
              "      <th>Wearable Smart Devices</th>\n",
              "      <td>1</td>\n",
              "      <td>1</td>\n",
              "      <td>1</td>\n",
              "      <td>1</td>\n",
              "      <td>1</td>\n",
              "      <td>1</td>\n",
              "      <td>1</td>\n",
              "      <td>1</td>\n",
              "      <td>1</td>\n",
              "      <td>1</td>\n",
              "      <td>1</td>\n",
              "      <td>1</td>\n",
              "      <td>1</td>\n",
              "      <td>1</td>\n",
              "    </tr>\n",
              "    <tr>\n",
              "      <th>Watches</th>\n",
              "      <td>48</td>\n",
              "      <td>48</td>\n",
              "      <td>48</td>\n",
              "      <td>48</td>\n",
              "      <td>48</td>\n",
              "      <td>48</td>\n",
              "      <td>48</td>\n",
              "      <td>48</td>\n",
              "      <td>48</td>\n",
              "      <td>48</td>\n",
              "      <td>48</td>\n",
              "      <td>48</td>\n",
              "      <td>48</td>\n",
              "      <td>48</td>\n",
              "    </tr>\n",
              "    <tr>\n",
              "      <th>Toys &amp; School Supplies</th>\n",
              "      <td>96</td>\n",
              "      <td>96</td>\n",
              "      <td>96</td>\n",
              "      <td>96</td>\n",
              "      <td>96</td>\n",
              "      <td>96</td>\n",
              "      <td>96</td>\n",
              "      <td>96</td>\n",
              "      <td>96</td>\n",
              "      <td>96</td>\n",
              "      <td>96</td>\n",
              "      <td>96</td>\n",
              "      <td>96</td>\n",
              "      <td>96</td>\n",
              "    </tr>\n",
              "    <tr>\n",
              "      <th>Tools &amp; Hardware</th>\n",
              "      <td>377</td>\n",
              "      <td>377</td>\n",
              "      <td>377</td>\n",
              "      <td>377</td>\n",
              "      <td>377</td>\n",
              "      <td>377</td>\n",
              "      <td>377</td>\n",
              "      <td>377</td>\n",
              "      <td>377</td>\n",
              "      <td>377</td>\n",
              "      <td>377</td>\n",
              "      <td>377</td>\n",
              "      <td>377</td>\n",
              "      <td>377</td>\n",
              "    </tr>\n",
              "    <tr>\n",
              "      <th>Sports &amp; Fitness</th>\n",
              "      <td>100</td>\n",
              "      <td>100</td>\n",
              "      <td>100</td>\n",
              "      <td>100</td>\n",
              "      <td>100</td>\n",
              "      <td>100</td>\n",
              "      <td>100</td>\n",
              "      <td>100</td>\n",
              "      <td>100</td>\n",
              "      <td>100</td>\n",
              "      <td>100</td>\n",
              "      <td>100</td>\n",
              "      <td>100</td>\n",
              "      <td>100</td>\n",
              "    </tr>\n",
              "  </tbody>\n",
              "</table>\n",
              "</div>\n",
              "      <button class=\"colab-df-convert\" onclick=\"convertToInteractive('df-025b841b-b3aa-4f1e-9ba4-0b6d73359266')\"\n",
              "              title=\"Convert this dataframe to an interactive table.\"\n",
              "              style=\"display:none;\">\n",
              "        \n",
              "  <svg xmlns=\"http://www.w3.org/2000/svg\" height=\"24px\"viewBox=\"0 0 24 24\"\n",
              "       width=\"24px\">\n",
              "    <path d=\"M0 0h24v24H0V0z\" fill=\"none\"/>\n",
              "    <path d=\"M18.56 5.44l.94 2.06.94-2.06 2.06-.94-2.06-.94-.94-2.06-.94 2.06-2.06.94zm-11 1L8.5 8.5l.94-2.06 2.06-.94-2.06-.94L8.5 2.5l-.94 2.06-2.06.94zm10 10l.94 2.06.94-2.06 2.06-.94-2.06-.94-.94-2.06-.94 2.06-2.06.94z\"/><path d=\"M17.41 7.96l-1.37-1.37c-.4-.4-.92-.59-1.43-.59-.52 0-1.04.2-1.43.59L10.3 9.45l-7.72 7.72c-.78.78-.78 2.05 0 2.83L4 21.41c.39.39.9.59 1.41.59.51 0 1.02-.2 1.41-.59l7.78-7.78 2.81-2.81c.8-.78.8-2.07 0-2.86zM5.41 20L4 18.59l7.72-7.72 1.47 1.35L5.41 20z\"/>\n",
              "  </svg>\n",
              "      </button>\n",
              "      \n",
              "  <style>\n",
              "    .colab-df-container {\n",
              "      display:flex;\n",
              "      flex-wrap:wrap;\n",
              "      gap: 12px;\n",
              "    }\n",
              "\n",
              "    .colab-df-convert {\n",
              "      background-color: #E8F0FE;\n",
              "      border: none;\n",
              "      border-radius: 50%;\n",
              "      cursor: pointer;\n",
              "      display: none;\n",
              "      fill: #1967D2;\n",
              "      height: 32px;\n",
              "      padding: 0 0 0 0;\n",
              "      width: 32px;\n",
              "    }\n",
              "\n",
              "    .colab-df-convert:hover {\n",
              "      background-color: #E2EBFA;\n",
              "      box-shadow: 0px 1px 2px rgba(60, 64, 67, 0.3), 0px 1px 3px 1px rgba(60, 64, 67, 0.15);\n",
              "      fill: #174EA6;\n",
              "    }\n",
              "\n",
              "    [theme=dark] .colab-df-convert {\n",
              "      background-color: #3B4455;\n",
              "      fill: #D2E3FC;\n",
              "    }\n",
              "\n",
              "    [theme=dark] .colab-df-convert:hover {\n",
              "      background-color: #434B5C;\n",
              "      box-shadow: 0px 1px 3px 1px rgba(0, 0, 0, 0.15);\n",
              "      filter: drop-shadow(0px 1px 2px rgba(0, 0, 0, 0.3));\n",
              "      fill: #FFFFFF;\n",
              "    }\n",
              "  </style>\n",
              "\n",
              "      <script>\n",
              "        const buttonEl =\n",
              "          document.querySelector('#df-025b841b-b3aa-4f1e-9ba4-0b6d73359266 button.colab-df-convert');\n",
              "        buttonEl.style.display =\n",
              "          google.colab.kernel.accessAllowed ? 'block' : 'none';\n",
              "\n",
              "        async function convertToInteractive(key) {\n",
              "          const element = document.querySelector('#df-025b841b-b3aa-4f1e-9ba4-0b6d73359266');\n",
              "          const dataTable =\n",
              "            await google.colab.kernel.invokeFunction('convertToInteractive',\n",
              "                                                     [key], {});\n",
              "          if (!dataTable) return;\n",
              "\n",
              "          const docLinkHtml = 'Like what you see? Visit the ' +\n",
              "            '<a target=\"_blank\" href=https://colab.research.google.com/notebooks/data_table.ipynb>data table notebook</a>'\n",
              "            + ' to learn more about interactive tables.';\n",
              "          element.innerHTML = '';\n",
              "          dataTable['output_type'] = 'display_data';\n",
              "          await google.colab.output.renderOutput(dataTable, element);\n",
              "          const docLink = document.createElement('div');\n",
              "          docLink.innerHTML = docLinkHtml;\n",
              "          element.appendChild(docLink);\n",
              "        }\n",
              "      </script>\n",
              "    </div>\n",
              "  </div>\n",
              "  "
            ]
          },
          "metadata": {},
          "execution_count": 22
        }
      ],
      "source": [
        "ECom_Data.groupby('product_main_category').count().sort_values(ascending=False,by='product_main_category').head()\n"
      ]
    },
    {
      "cell_type": "markdown",
      "id": "a9f81605",
      "metadata": {
        "id": "a9f81605"
      },
      "source": [
        "<font color='blue'>\n",
        "    <font size = 5>\n",
        "    In E-commerce, both the retailers (here brands) and the company have to make profit to sustain in the business. \n",
        "    The E-Commerce company has the following rule for computing their own revenue: </font> \n",
        "    \n",
        "####     The company charges  \n",
        "####  (i) 25% on the orders having final price (discounted price) greater than 600\n",
        "\n",
        "#### (ii) 15% on the orders having final price (discounted price) greater than 350 but less than or equal to 600\n",
        "\n",
        "#### (iii) 10% on the orders having final price (discounted price) greater than 100 but less than or equal to 350\n",
        "\n",
        "#### (iv) Otherwise, 5% on the final price (discounted price)    </font> "
      ]
    },
    {
      "cell_type": "markdown",
      "id": "0f255fea",
      "metadata": {
        "id": "0f255fea"
      },
      "source": [
        "## Q 5. Find the net revenue generated by the E-Commerce company over all orders placed. (6 marks)"
      ]
    },
    {
      "cell_type": "markdown",
      "id": "1f6b8028",
      "metadata": {
        "id": "1f6b8028"
      },
      "source": [
        "### Ans 5"
      ]
    },
    {
      "cell_type": "code",
      "source": [
        "df_25=ECom_Data[ECom_Data['discounted_price']>600].head()"
      ],
      "metadata": {
        "id": "PwBhBTwj5bsT"
      },
      "id": "PwBhBTwj5bsT",
      "execution_count": 23,
      "outputs": []
    },
    {
      "cell_type": "code",
      "source": [
        "order_25=df_25['discounted_price'].sum()"
      ],
      "metadata": {
        "id": "aB6zAjYd98Ms"
      },
      "id": "aB6zAjYd98Ms",
      "execution_count": 24,
      "outputs": []
    },
    {
      "cell_type": "code",
      "source": [
        "\n",
        "df_15=ECom_Data[(ECom_Data['discounted_price']>350) & (ECom_Data['discounted_price']<=600)].head()\n",
        "order_15=df_15['discounted_price'].sum()\n",
        "order_15"
      ],
      "metadata": {
        "colab": {
          "base_uri": "https://localhost:8080/"
        },
        "id": "xY2yfgQy-HgT",
        "outputId": "20df8829-2966-41ba-93e8-e1bf95481d04"
      },
      "id": "xY2yfgQy-HgT",
      "execution_count": 25,
      "outputs": [
        {
          "output_type": "execute_result",
          "data": {
            "text/plain": [
              "2215"
            ]
          },
          "metadata": {},
          "execution_count": 25
        }
      ]
    },
    {
      "cell_type": "code",
      "execution_count": 26,
      "id": "c62d888f",
      "metadata": {
        "colab": {
          "base_uri": "https://localhost:8080/"
        },
        "id": "c62d888f",
        "outputId": "eaef5f04-2a19-41b2-f7ce-dc2f0be6928f"
      },
      "outputs": [
        {
          "output_type": "execute_result",
          "data": {
            "text/plain": [
              "1357"
            ]
          },
          "metadata": {},
          "execution_count": 26
        }
      ],
      "source": [
        "\n",
        "df_10=ECom_Data[(ECom_Data['discounted_price']>100) & (ECom_Data['discounted_price']<=350)].head()\n",
        "order_10=df_10['discounted_price'].sum()\n",
        "order_10"
      ]
    },
    {
      "cell_type": "code",
      "source": [
        "df_5=ECom_Data[ECom_Data['discounted_price']<=100].head()\n",
        "order_5=df_5['discounted_price'].sum()\n",
        "order_5"
      ],
      "metadata": {
        "colab": {
          "base_uri": "https://localhost:8080/"
        },
        "id": "pNTsJt8fV3YY",
        "outputId": "02ee2c82-10e9-44ea-9844-37bed5cdbd68"
      },
      "id": "pNTsJt8fV3YY",
      "execution_count": 27,
      "outputs": [
        {
          "output_type": "execute_result",
          "data": {
            "text/plain": [
              "0"
            ]
          },
          "metadata": {},
          "execution_count": 27
        }
      ]
    },
    {
      "cell_type": "code",
      "source": [
        "net_revenue = order_25 + order_15 + order_10 + order_5\n",
        "print(\"The total net revenue is\",net_revenue)"
      ],
      "metadata": {
        "colab": {
          "base_uri": "https://localhost:8080/"
        },
        "id": "aeO6Nn_L_s6M",
        "outputId": "ec7871ce-cb18-4273-dca4-c7294c3ce01f"
      },
      "id": "aeO6Nn_L_s6M",
      "execution_count": 28,
      "outputs": [
        {
          "output_type": "stream",
          "name": "stdout",
          "text": [
            "The total net revenue is 51423\n"
          ]
        }
      ]
    },
    {
      "cell_type": "markdown",
      "id": "9161ca8c",
      "metadata": {
        "id": "9161ca8c"
      },
      "source": [
        "<font color='blue'>\n",
        "    <font size = 5>\n",
        "    Now you need to find the revenue for each retailer (Brand)\n",
        "    </font>"
      ]
    },
    {
      "cell_type": "markdown",
      "id": "73dd23c3",
      "metadata": {
        "id": "73dd23c3"
      },
      "source": [
        "## Q6.Calculate the Net BrandRevenue for each Brand and list the top 14 Brand having maximum revenue in descending order (6 marks)\n",
        "#### Hint: Net BrandRevenue is BrandRevenue which is generated after all the deductions. Also, BrandRevenue is different from the E-Commerce company's net revenue."
      ]
    },
    {
      "cell_type": "markdown",
      "id": "3514fa79",
      "metadata": {
        "id": "3514fa79"
      },
      "source": [
        "### Ans 6"
      ]
    },
    {
      "cell_type": "code",
      "source": [
        "(ECom_Data.groupby('Brand').agg({'discounted_price': 'sum'}).sort_values('discounted_price', ascending=False).reset_index().rename(columns={'discounted_price':'Net Brand Revenue'})).head(14)"
      ],
      "metadata": {
        "colab": {
          "base_uri": "https://localhost:8080/",
          "height": 424
        },
        "id": "jCqPCs13DeVR",
        "outputId": "ed608034-b7e0-4eb5-f6ad-d3c5aec3b2b8"
      },
      "id": "jCqPCs13DeVR",
      "execution_count": 29,
      "outputs": [
        {
          "output_type": "execute_result",
          "data": {
            "text/plain": [
              "           Brand  Net Brand Revenue\n",
              "0    Allure Auto             664619\n",
              "1           GAGA             316520\n",
              "2           Slim             272177\n",
              "3   DailyObjects             242640\n",
              "4       Diviniti             190820\n",
              "..           ...                ...\n",
              "9      Springwel             118638\n",
              "10        Audeze             116292\n",
              "11    Lal Haveli              98739\n",
              "12  FabHomeDecor              90584\n",
              "13       Netgear              87878\n",
              "\n",
              "[14 rows x 2 columns]"
            ],
            "text/html": [
              "\n",
              "  <div id=\"df-0138bc57-8464-4f5c-b779-39d1c3cb14b4\">\n",
              "    <div class=\"colab-df-container\">\n",
              "      <div>\n",
              "<style scoped>\n",
              "    .dataframe tbody tr th:only-of-type {\n",
              "        vertical-align: middle;\n",
              "    }\n",
              "\n",
              "    .dataframe tbody tr th {\n",
              "        vertical-align: top;\n",
              "    }\n",
              "\n",
              "    .dataframe thead th {\n",
              "        text-align: right;\n",
              "    }\n",
              "</style>\n",
              "<table border=\"1\" class=\"dataframe\">\n",
              "  <thead>\n",
              "    <tr style=\"text-align: right;\">\n",
              "      <th></th>\n",
              "      <th>Brand</th>\n",
              "      <th>Net Brand Revenue</th>\n",
              "    </tr>\n",
              "  </thead>\n",
              "  <tbody>\n",
              "    <tr>\n",
              "      <th>0</th>\n",
              "      <td>Allure Auto</td>\n",
              "      <td>664619</td>\n",
              "    </tr>\n",
              "    <tr>\n",
              "      <th>1</th>\n",
              "      <td>GAGA</td>\n",
              "      <td>316520</td>\n",
              "    </tr>\n",
              "    <tr>\n",
              "      <th>2</th>\n",
              "      <td>Slim</td>\n",
              "      <td>272177</td>\n",
              "    </tr>\n",
              "    <tr>\n",
              "      <th>3</th>\n",
              "      <td>DailyObjects</td>\n",
              "      <td>242640</td>\n",
              "    </tr>\n",
              "    <tr>\n",
              "      <th>4</th>\n",
              "      <td>Diviniti</td>\n",
              "      <td>190820</td>\n",
              "    </tr>\n",
              "    <tr>\n",
              "      <th>...</th>\n",
              "      <td>...</td>\n",
              "      <td>...</td>\n",
              "    </tr>\n",
              "    <tr>\n",
              "      <th>9</th>\n",
              "      <td>Springwel</td>\n",
              "      <td>118638</td>\n",
              "    </tr>\n",
              "    <tr>\n",
              "      <th>10</th>\n",
              "      <td>Audeze</td>\n",
              "      <td>116292</td>\n",
              "    </tr>\n",
              "    <tr>\n",
              "      <th>11</th>\n",
              "      <td>Lal Haveli</td>\n",
              "      <td>98739</td>\n",
              "    </tr>\n",
              "    <tr>\n",
              "      <th>12</th>\n",
              "      <td>FabHomeDecor</td>\n",
              "      <td>90584</td>\n",
              "    </tr>\n",
              "    <tr>\n",
              "      <th>13</th>\n",
              "      <td>Netgear</td>\n",
              "      <td>87878</td>\n",
              "    </tr>\n",
              "  </tbody>\n",
              "</table>\n",
              "<p>14 rows × 2 columns</p>\n",
              "</div>\n",
              "      <button class=\"colab-df-convert\" onclick=\"convertToInteractive('df-0138bc57-8464-4f5c-b779-39d1c3cb14b4')\"\n",
              "              title=\"Convert this dataframe to an interactive table.\"\n",
              "              style=\"display:none;\">\n",
              "        \n",
              "  <svg xmlns=\"http://www.w3.org/2000/svg\" height=\"24px\"viewBox=\"0 0 24 24\"\n",
              "       width=\"24px\">\n",
              "    <path d=\"M0 0h24v24H0V0z\" fill=\"none\"/>\n",
              "    <path d=\"M18.56 5.44l.94 2.06.94-2.06 2.06-.94-2.06-.94-.94-2.06-.94 2.06-2.06.94zm-11 1L8.5 8.5l.94-2.06 2.06-.94-2.06-.94L8.5 2.5l-.94 2.06-2.06.94zm10 10l.94 2.06.94-2.06 2.06-.94-2.06-.94-.94-2.06-.94 2.06-2.06.94z\"/><path d=\"M17.41 7.96l-1.37-1.37c-.4-.4-.92-.59-1.43-.59-.52 0-1.04.2-1.43.59L10.3 9.45l-7.72 7.72c-.78.78-.78 2.05 0 2.83L4 21.41c.39.39.9.59 1.41.59.51 0 1.02-.2 1.41-.59l7.78-7.78 2.81-2.81c.8-.78.8-2.07 0-2.86zM5.41 20L4 18.59l7.72-7.72 1.47 1.35L5.41 20z\"/>\n",
              "  </svg>\n",
              "      </button>\n",
              "      \n",
              "  <style>\n",
              "    .colab-df-container {\n",
              "      display:flex;\n",
              "      flex-wrap:wrap;\n",
              "      gap: 12px;\n",
              "    }\n",
              "\n",
              "    .colab-df-convert {\n",
              "      background-color: #E8F0FE;\n",
              "      border: none;\n",
              "      border-radius: 50%;\n",
              "      cursor: pointer;\n",
              "      display: none;\n",
              "      fill: #1967D2;\n",
              "      height: 32px;\n",
              "      padding: 0 0 0 0;\n",
              "      width: 32px;\n",
              "    }\n",
              "\n",
              "    .colab-df-convert:hover {\n",
              "      background-color: #E2EBFA;\n",
              "      box-shadow: 0px 1px 2px rgba(60, 64, 67, 0.3), 0px 1px 3px 1px rgba(60, 64, 67, 0.15);\n",
              "      fill: #174EA6;\n",
              "    }\n",
              "\n",
              "    [theme=dark] .colab-df-convert {\n",
              "      background-color: #3B4455;\n",
              "      fill: #D2E3FC;\n",
              "    }\n",
              "\n",
              "    [theme=dark] .colab-df-convert:hover {\n",
              "      background-color: #434B5C;\n",
              "      box-shadow: 0px 1px 3px 1px rgba(0, 0, 0, 0.15);\n",
              "      filter: drop-shadow(0px 1px 2px rgba(0, 0, 0, 0.3));\n",
              "      fill: #FFFFFF;\n",
              "    }\n",
              "  </style>\n",
              "\n",
              "      <script>\n",
              "        const buttonEl =\n",
              "          document.querySelector('#df-0138bc57-8464-4f5c-b779-39d1c3cb14b4 button.colab-df-convert');\n",
              "        buttonEl.style.display =\n",
              "          google.colab.kernel.accessAllowed ? 'block' : 'none';\n",
              "\n",
              "        async function convertToInteractive(key) {\n",
              "          const element = document.querySelector('#df-0138bc57-8464-4f5c-b779-39d1c3cb14b4');\n",
              "          const dataTable =\n",
              "            await google.colab.kernel.invokeFunction('convertToInteractive',\n",
              "                                                     [key], {});\n",
              "          if (!dataTable) return;\n",
              "\n",
              "          const docLinkHtml = 'Like what you see? Visit the ' +\n",
              "            '<a target=\"_blank\" href=https://colab.research.google.com/notebooks/data_table.ipynb>data table notebook</a>'\n",
              "            + ' to learn more about interactive tables.';\n",
              "          element.innerHTML = '';\n",
              "          dataTable['output_type'] = 'display_data';\n",
              "          await google.colab.output.renderOutput(dataTable, element);\n",
              "          const docLink = document.createElement('div');\n",
              "          docLink.innerHTML = docLinkHtml;\n",
              "          element.appendChild(docLink);\n",
              "        }\n",
              "      </script>\n",
              "    </div>\n",
              "  </div>\n",
              "  "
            ]
          },
          "metadata": {},
          "execution_count": 29
        }
      ]
    },
    {
      "cell_type": "markdown",
      "id": "2a2bbd83",
      "metadata": {
        "id": "2a2bbd83"
      },
      "source": [
        "<font color='blue'>\n",
        "    <font size = 5>\n",
        "Let us now investigate multiple features for each product to determine any pattern.\n",
        "</font>"
      ]
    },
    {
      "cell_type": "markdown",
      "id": "1aa1834b",
      "metadata": {
        "id": "1aa1834b"
      },
      "source": [
        "## Q 7. Compare prices for each product.\n",
        "\n",
        "## a)\tDraw boxplots of retail_price & discounted_price. (3 marks)\n",
        "\n",
        "## b)\t Are there any outliers? (Yes/No) (1mark)\n",
        "\n",
        "## c)\tCreate a scatterplot of retail_price (x-axis) and discounted_price (y-axis) (3 marks)\n"
      ]
    },
    {
      "cell_type": "markdown",
      "id": "d5aae861",
      "metadata": {
        "id": "d5aae861"
      },
      "source": [
        "### Ans 7 a)"
      ]
    },
    {
      "cell_type": "code",
      "execution_count": 30,
      "id": "510fd4d0",
      "metadata": {
        "colab": {
          "base_uri": "https://localhost:8080/",
          "height": 519
        },
        "id": "510fd4d0",
        "outputId": "076b9da2-27ef-488f-cf43-cab8d7f817dc"
      },
      "outputs": [
        {
          "output_type": "execute_result",
          "data": {
            "text/plain": [
              "<matplotlib.axes._subplots.AxesSubplot at 0x7f2a9fdf4d50>"
            ]
          },
          "metadata": {},
          "execution_count": 30
        },
        {
          "output_type": "display_data",
          "data": {
            "text/plain": [
              "<Figure size 720x576 with 1 Axes>"
            ],
            "image/png": "[encoded data removed]"
          },
          "metadata": {}
        }
      ],
      "source": [
        "sns.set(rc = {'figure.figsize':(10,8)})\n",
        "sns.boxplot(x='discounted_price',data=ECom_Data)\n"
      ]
    },
    {
      "cell_type": "code",
      "source": [
        "sns.boxplot(x='retail_price',data=ECom_Data)"
      ],
      "metadata": {
        "colab": {
          "base_uri": "https://localhost:8080/",
          "height": 519
        },
        "id": "9Ptyyo1UhZfw",
        "outputId": "587a2af7-0603-48ed-8884-a3caf9f70acc"
      },
      "id": "9Ptyyo1UhZfw",
      "execution_count": 31,
      "outputs": [
        {
          "output_type": "execute_result",
          "data": {
            "text/plain": [
              "<matplotlib.axes._subplots.AxesSubplot at 0x7f2a9fdd2f10>"
            ]
          },
          "metadata": {},
          "execution_count": 31
        },
        {
          "output_type": "display_data",
          "data": {
            "text/plain": [
              "<Figure size 720x576 with 1 Axes>"
            ],
            "image/png": "[encoded data removed]"
          },
          "metadata": {}
        }
      ]
    },
    {
      "cell_type": "markdown",
      "id": "78b92e7c",
      "metadata": {
        "id": "78b92e7c"
      },
      "source": [
        "### Ans 7 b)"
      ]
    },
    {
      "cell_type": "code",
      "execution_count": 32,
      "id": "0af7c034",
      "metadata": {
        "id": "0af7c034"
      },
      "outputs": [],
      "source": [
        "#yes there is many outliers in both columns retail price and discount price"
      ]
    },
    {
      "cell_type": "markdown",
      "id": "0389c9b8",
      "metadata": {
        "id": "0389c9b8"
      },
      "source": [
        "### Ans 7 c)"
      ]
    },
    {
      "cell_type": "code",
      "execution_count": 33,
      "id": "d8c44be9",
      "metadata": {
        "colab": {
          "base_uri": "https://localhost:8080/",
          "height": 519
        },
        "id": "d8c44be9",
        "outputId": "e944eeed-8759-4f47-ece9-577e43904fa8"
      },
      "outputs": [
        {
          "output_type": "execute_result",
          "data": {
            "text/plain": [
              "<matplotlib.axes._subplots.AxesSubplot at 0x7f2aa1d354d0>"
            ]
          },
          "metadata": {},
          "execution_count": 33
        },
        {
          "output_type": "display_data",
          "data": {
            "text/plain": [
              "<Figure size 720x576 with 1 Axes>"
            ],
            "image/png": "[encoded data removed]"
          },
          "metadata": {}
        }
      ],
      "source": [
        "sns.scatterplot(x='retail_price',y='discounted_price',data=ECom_Data)"
      ]
    },
    {
      "cell_type": "markdown",
      "id": "3bc47f55",
      "metadata": {
        "id": "3bc47f55"
      },
      "source": [
        "<font color='blue'>\n",
        "    <font size = 5>\n",
        "    The next steps will enable to study brand-level information.\n",
        "    </font>"
      ]
    },
    {
      "cell_type": "markdown",
      "id": "b9bd00f7",
      "metadata": {
        "id": "b9bd00f7"
      },
      "source": [
        "## Q 8. Create a new dataframe to include the Brand specific information as stated:\n",
        "## i.\ttotal number of orders placed per Brand\n",
        "## ii.\ttotal retail_price per Brand\n",
        "## iii.\ttotal discounted_price per Brand, and \n",
        "## iv.\ttotal net BrandRevenue generated per Brand. \n",
        "\n",
        "## Also, draw a pairplot using these four features. (6 marks)\n"
      ]
    },
    {
      "cell_type": "markdown",
      "id": "8f83cea9",
      "metadata": {
        "id": "8f83cea9"
      },
      "source": [
        "### Ans 8"
      ]
    },
    {
      "cell_type": "markdown",
      "source": [
        "**(i)**"
      ],
      "metadata": {
        "id": "kgUB37cg5b5s"
      },
      "id": "kgUB37cg5b5s"
    },
    {
      "cell_type": "code",
      "execution_count": 35,
      "id": "ae749847",
      "metadata": {
        "colab": {
          "base_uri": "https://localhost:8080/"
        },
        "id": "ae749847",
        "outputId": "fd594255-c6a5-42a1-c85b-9fd5acacdb82"
      },
      "outputs": [
        {
          "output_type": "execute_result",
          "data": {
            "text/plain": [
              "Allure Auto       469\n",
              "Regular           299\n",
              "Slim              267\n",
              "TheLostPuppy      229\n",
              "Black             147\n",
              "                 ... \n",
              "SINGHAM             1\n",
              "Jack & Jones        1\n",
              "Quenell             1\n",
              "Shop Swipe          1\n",
              "Ambika Lahenga      1\n",
              "Name: Brand, Length: 2580, dtype: int64"
            ]
          },
          "metadata": {},
          "execution_count": 35
        }
      ],
      "source": [
        "#total number of order place per brand\n",
        "ECom_Data['Brand'].value_counts()"
      ]
    },
    {
      "cell_type": "markdown",
      "source": [
        "**(ii)**"
      ],
      "metadata": {
        "id": "CJ6CvLqS5gUm"
      },
      "id": "CJ6CvLqS5gUm"
    },
    {
      "cell_type": "code",
      "source": [
        "#total retail price per brand\n",
        "tot_retail_price = ECom_Data.groupby('Brand')['retail_price'].agg(np.sum)\n",
        "tot_retail_price"
      ],
      "metadata": {
        "colab": {
          "base_uri": "https://localhost:8080/"
        },
        "id": "nC3qE3mXwczt",
        "outputId": "dc301feb-6148-4a15-a1af-f9b8d1456480"
      },
      "id": "nC3qE3mXwczt",
      "execution_count": 36,
      "outputs": [
        {
          "output_type": "execute_result",
          "data": {
            "text/plain": [
              "Brand\n",
              "1OAK              1698\n",
              "3A AUTOCARE     107059\n",
              "3D Mat            7250\n",
              "3kFactory          399\n",
              "4D               17500\n",
              "                 ...  \n",
              "youniqueshop       810\n",
              "zDelhi.com        4499\n",
              "zaidis             150\n",
              "zasmina           1400\n",
              " Tarkan           1999\n",
              "Name: retail_price, Length: 2580, dtype: int64"
            ]
          },
          "metadata": {},
          "execution_count": 36
        }
      ]
    },
    {
      "cell_type": "markdown",
      "source": [
        "**(iii)**"
      ],
      "metadata": {
        "id": "A_8q6sHG5mZX"
      },
      "id": "A_8q6sHG5mZX"
    },
    {
      "cell_type": "code",
      "source": [
        "#total discount price per brand\n",
        "tot_discount_price = ECom_Data.groupby('Brand')['discounted_price'].agg(np.sum).reset_index().rename(columns={'discounted_price':'tot_discount_price'})\n",
        "tot_discount_price"
      ],
      "metadata": {
        "colab": {
          "base_uri": "https://localhost:8080/",
          "height": 424
        },
        "id": "CTVJHyXqGLjl",
        "outputId": "699f5f4d-2ae1-4fd0-fe4b-0a6c10dcd786"
      },
      "id": "CTVJHyXqGLjl",
      "execution_count": 64,
      "outputs": [
        {
          "output_type": "execute_result",
          "data": {
            "text/plain": [
              "             Brand  tot_discount_price\n",
              "0             1OAK                1274\n",
              "1      3A AUTOCARE               74134\n",
              "2           3D Mat                6999\n",
              "3        3kFactory                 174\n",
              "4               4D                7948\n",
              "...            ...                 ...\n",
              "2575  youniqueshop                 640\n",
              "2576    zDelhi.com                3999\n",
              "2577        zaidis                 129\n",
              "2578       zasmina                 639\n",
              "2579        Tarkan                 349\n",
              "\n",
              "[2580 rows x 2 columns]"
            ],
            "text/html": [
              "\n",
              "  <div id=\"df-22815824-9262-4967-8e89-eabdd2f9476b\">\n",
              "    <div class=\"colab-df-container\">\n",
              "      <div>\n",
              "<style scoped>\n",
              "    .dataframe tbody tr th:only-of-type {\n",
              "        vertical-align: middle;\n",
              "    }\n",
              "\n",
              "    .dataframe tbody tr th {\n",
              "        vertical-align: top;\n",
              "    }\n",
              "\n",
              "    .dataframe thead th {\n",
              "        text-align: right;\n",
              "    }\n",
              "</style>\n",
              "<table border=\"1\" class=\"dataframe\">\n",
              "  <thead>\n",
              "    <tr style=\"text-align: right;\">\n",
              "      <th></th>\n",
              "      <th>Brand</th>\n",
              "      <th>tot_discount_price</th>\n",
              "    </tr>\n",
              "  </thead>\n",
              "  <tbody>\n",
              "    <tr>\n",
              "      <th>0</th>\n",
              "      <td>1OAK</td>\n",
              "      <td>1274</td>\n",
              "    </tr>\n",
              "    <tr>\n",
              "      <th>1</th>\n",
              "      <td>3A AUTOCARE</td>\n",
              "      <td>74134</td>\n",
              "    </tr>\n",
              "    <tr>\n",
              "      <th>2</th>\n",
              "      <td>3D Mat</td>\n",
              "      <td>6999</td>\n",
              "    </tr>\n",
              "    <tr>\n",
              "      <th>3</th>\n",
              "      <td>3kFactory</td>\n",
              "      <td>174</td>\n",
              "    </tr>\n",
              "    <tr>\n",
              "      <th>4</th>\n",
              "      <td>4D</td>\n",
              "      <td>7948</td>\n",
              "    </tr>\n",
              "    <tr>\n",
              "      <th>...</th>\n",
              "      <td>...</td>\n",
              "      <td>...</td>\n",
              "    </tr>\n",
              "    <tr>\n",
              "      <th>2575</th>\n",
              "      <td>youniqueshop</td>\n",
              "      <td>640</td>\n",
              "    </tr>\n",
              "    <tr>\n",
              "      <th>2576</th>\n",
              "      <td>zDelhi.com</td>\n",
              "      <td>3999</td>\n",
              "    </tr>\n",
              "    <tr>\n",
              "      <th>2577</th>\n",
              "      <td>zaidis</td>\n",
              "      <td>129</td>\n",
              "    </tr>\n",
              "    <tr>\n",
              "      <th>2578</th>\n",
              "      <td>zasmina</td>\n",
              "      <td>639</td>\n",
              "    </tr>\n",
              "    <tr>\n",
              "      <th>2579</th>\n",
              "      <td>Tarkan</td>\n",
              "      <td>349</td>\n",
              "    </tr>\n",
              "  </tbody>\n",
              "</table>\n",
              "<p>2580 rows × 2 columns</p>\n",
              "</div>\n",
              "      <button class=\"colab-df-convert\" onclick=\"convertToInteractive('df-22815824-9262-4967-8e89-eabdd2f9476b')\"\n",
              "              title=\"Convert this dataframe to an interactive table.\"\n",
              "              style=\"display:none;\">\n",
              "        \n",
              "  <svg xmlns=\"http://www.w3.org/2000/svg\" height=\"24px\"viewBox=\"0 0 24 24\"\n",
              "       width=\"24px\">\n",
              "    <path d=\"M0 0h24v24H0V0z\" fill=\"none\"/>\n",
              "    <path d=\"M18.56 5.44l.94 2.06.94-2.06 2.06-.94-2.06-.94-.94-2.06-.94 2.06-2.06.94zm-11 1L8.5 8.5l.94-2.06 2.06-.94-2.06-.94L8.5 2.5l-.94 2.06-2.06.94zm10 10l.94 2.06.94-2.06 2.06-.94-2.06-.94-.94-2.06-.94 2.06-2.06.94z\"/><path d=\"M17.41 7.96l-1.37-1.37c-.4-.4-.92-.59-1.43-.59-.52 0-1.04.2-1.43.59L10.3 9.45l-7.72 7.72c-.78.78-.78 2.05 0 2.83L4 21.41c.39.39.9.59 1.41.59.51 0 1.02-.2 1.41-.59l7.78-7.78 2.81-2.81c.8-.78.8-2.07 0-2.86zM5.41 20L4 18.59l7.72-7.72 1.47 1.35L5.41 20z\"/>\n",
              "  </svg>\n",
              "      </button>\n",
              "      \n",
              "  <style>\n",
              "    .colab-df-container {\n",
              "      display:flex;\n",
              "      flex-wrap:wrap;\n",
              "      gap: 12px;\n",
              "    }\n",
              "\n",
              "    .colab-df-convert {\n",
              "      background-color: #E8F0FE;\n",
              "      border: none;\n",
              "      border-radius: 50%;\n",
              "      cursor: pointer;\n",
              "      display: none;\n",
              "      fill: #1967D2;\n",
              "      height: 32px;\n",
              "      padding: 0 0 0 0;\n",
              "      width: 32px;\n",
              "    }\n",
              "\n",
              "    .colab-df-convert:hover {\n",
              "      background-color: #E2EBFA;\n",
              "      box-shadow: 0px 1px 2px rgba(60, 64, 67, 0.3), 0px 1px 3px 1px rgba(60, 64, 67, 0.15);\n",
              "      fill: #174EA6;\n",
              "    }\n",
              "\n",
              "    [theme=dark] .colab-df-convert {\n",
              "      background-color: #3B4455;\n",
              "      fill: #D2E3FC;\n",
              "    }\n",
              "\n",
              "    [theme=dark] .colab-df-convert:hover {\n",
              "      background-color: #434B5C;\n",
              "      box-shadow: 0px 1px 3px 1px rgba(0, 0, 0, 0.15);\n",
              "      filter: drop-shadow(0px 1px 2px rgba(0, 0, 0, 0.3));\n",
              "      fill: #FFFFFF;\n",
              "    }\n",
              "  </style>\n",
              "\n",
              "      <script>\n",
              "        const buttonEl =\n",
              "          document.querySelector('#df-22815824-9262-4967-8e89-eabdd2f9476b button.colab-df-convert');\n",
              "        buttonEl.style.display =\n",
              "          google.colab.kernel.accessAllowed ? 'block' : 'none';\n",
              "\n",
              "        async function convertToInteractive(key) {\n",
              "          const element = document.querySelector('#df-22815824-9262-4967-8e89-eabdd2f9476b');\n",
              "          const dataTable =\n",
              "            await google.colab.kernel.invokeFunction('convertToInteractive',\n",
              "                                                     [key], {});\n",
              "          if (!dataTable) return;\n",
              "\n",
              "          const docLinkHtml = 'Like what you see? Visit the ' +\n",
              "            '<a target=\"_blank\" href=https://colab.research.google.com/notebooks/data_table.ipynb>data table notebook</a>'\n",
              "            + ' to learn more about interactive tables.';\n",
              "          element.innerHTML = '';\n",
              "          dataTable['output_type'] = 'display_data';\n",
              "          await google.colab.output.renderOutput(dataTable, element);\n",
              "          const docLink = document.createElement('div');\n",
              "          docLink.innerHTML = docLinkHtml;\n",
              "          element.appendChild(docLink);\n",
              "        }\n",
              "      </script>\n",
              "    </div>\n",
              "  </div>\n",
              "  "
            ]
          },
          "metadata": {},
          "execution_count": 64
        }
      ]
    },
    {
      "cell_type": "code",
      "source": [
        "ECom_Data['tot_discount_price']=tot_discount_price['tot_discount_price']"
      ],
      "metadata": {
        "id": "aIh7uccc5CKZ"
      },
      "id": "aIh7uccc5CKZ",
      "execution_count": 65,
      "outputs": []
    },
    {
      "cell_type": "markdown",
      "source": [
        "**(iv)**"
      ],
      "metadata": {
        "id": "vSNvg8P95qcY"
      },
      "id": "vSNvg8P95qcY"
    },
    {
      "cell_type": "code",
      "source": [
        "#total net brand revenue per brand\n",
        "ECom_net_brand=(ECom_Data.groupby('Brand').agg({'discounted_price': 'sum'}).sort_values('discounted_price').reset_index().rename(columns={'discounted_price':'Net Brand Revenue'})).head(14)"
      ],
      "metadata": {
        "id": "S0bIKTbwGjfQ"
      },
      "id": "S0bIKTbwGjfQ",
      "execution_count": 57,
      "outputs": []
    },
    {
      "cell_type": "code",
      "source": [
        "ECom_net_brand"
      ],
      "metadata": {
        "colab": {
          "base_uri": "https://localhost:8080/",
          "height": 424
        },
        "id": "dtJJI-SU3Nji",
        "outputId": "4be1579a-8f8c-4633-c092-572b6444893d"
      },
      "id": "dtJJI-SU3Nji",
      "execution_count": 60,
      "outputs": [
        {
          "output_type": "execute_result",
          "data": {
            "text/plain": [
              "                Brand  Net Brand Revenue\n",
              "0    Laadli Bouitique                110\n",
              "1     Laadli Boutique                110\n",
              "2   Digital Marketing                110\n",
              "3                 OBS                110\n",
              "4            frontech                115\n",
              "..                ...                ...\n",
              "9       Made In China                120\n",
              "10              Scion                120\n",
              "11             zaidis                129\n",
              "12              Yuuup                129\n",
              "13            Medimix                129\n",
              "\n",
              "[14 rows x 2 columns]"
            ],
            "text/html": [
              "\n",
              "  <div id=\"df-46775cac-61df-470e-bd81-b0369fab772a\">\n",
              "    <div class=\"colab-df-container\">\n",
              "      <div>\n",
              "<style scoped>\n",
              "    .dataframe tbody tr th:only-of-type {\n",
              "        vertical-align: middle;\n",
              "    }\n",
              "\n",
              "    .dataframe tbody tr th {\n",
              "        vertical-align: top;\n",
              "    }\n",
              "\n",
              "    .dataframe thead th {\n",
              "        text-align: right;\n",
              "    }\n",
              "</style>\n",
              "<table border=\"1\" class=\"dataframe\">\n",
              "  <thead>\n",
              "    <tr style=\"text-align: right;\">\n",
              "      <th></th>\n",
              "      <th>Brand</th>\n",
              "      <th>Net Brand Revenue</th>\n",
              "    </tr>\n",
              "  </thead>\n",
              "  <tbody>\n",
              "    <tr>\n",
              "      <th>0</th>\n",
              "      <td>Laadli Bouitique</td>\n",
              "      <td>110</td>\n",
              "    </tr>\n",
              "    <tr>\n",
              "      <th>1</th>\n",
              "      <td>Laadli Boutique</td>\n",
              "      <td>110</td>\n",
              "    </tr>\n",
              "    <tr>\n",
              "      <th>2</th>\n",
              "      <td>Digital Marketing</td>\n",
              "      <td>110</td>\n",
              "    </tr>\n",
              "    <tr>\n",
              "      <th>3</th>\n",
              "      <td>OBS</td>\n",
              "      <td>110</td>\n",
              "    </tr>\n",
              "    <tr>\n",
              "      <th>4</th>\n",
              "      <td>frontech</td>\n",
              "      <td>115</td>\n",
              "    </tr>\n",
              "    <tr>\n",
              "      <th>...</th>\n",
              "      <td>...</td>\n",
              "      <td>...</td>\n",
              "    </tr>\n",
              "    <tr>\n",
              "      <th>9</th>\n",
              "      <td>Made In China</td>\n",
              "      <td>120</td>\n",
              "    </tr>\n",
              "    <tr>\n",
              "      <th>10</th>\n",
              "      <td>Scion</td>\n",
              "      <td>120</td>\n",
              "    </tr>\n",
              "    <tr>\n",
              "      <th>11</th>\n",
              "      <td>zaidis</td>\n",
              "      <td>129</td>\n",
              "    </tr>\n",
              "    <tr>\n",
              "      <th>12</th>\n",
              "      <td>Yuuup</td>\n",
              "      <td>129</td>\n",
              "    </tr>\n",
              "    <tr>\n",
              "      <th>13</th>\n",
              "      <td>Medimix</td>\n",
              "      <td>129</td>\n",
              "    </tr>\n",
              "  </tbody>\n",
              "</table>\n",
              "<p>14 rows × 2 columns</p>\n",
              "</div>\n",
              "      <button class=\"colab-df-convert\" onclick=\"convertToInteractive('df-46775cac-61df-470e-bd81-b0369fab772a')\"\n",
              "              title=\"Convert this dataframe to an interactive table.\"\n",
              "              style=\"display:none;\">\n",
              "        \n",
              "  <svg xmlns=\"http://www.w3.org/2000/svg\" height=\"24px\"viewBox=\"0 0 24 24\"\n",
              "       width=\"24px\">\n",
              "    <path d=\"M0 0h24v24H0V0z\" fill=\"none\"/>\n",
              "    <path d=\"M18.56 5.44l.94 2.06.94-2.06 2.06-.94-2.06-.94-.94-2.06-.94 2.06-2.06.94zm-11 1L8.5 8.5l.94-2.06 2.06-.94-2.06-.94L8.5 2.5l-.94 2.06-2.06.94zm10 10l.94 2.06.94-2.06 2.06-.94-2.06-.94-.94-2.06-.94 2.06-2.06.94z\"/><path d=\"M17.41 7.96l-1.37-1.37c-.4-.4-.92-.59-1.43-.59-.52 0-1.04.2-1.43.59L10.3 9.45l-7.72 7.72c-.78.78-.78 2.05 0 2.83L4 21.41c.39.39.9.59 1.41.59.51 0 1.02-.2 1.41-.59l7.78-7.78 2.81-2.81c.8-.78.8-2.07 0-2.86zM5.41 20L4 18.59l7.72-7.72 1.47 1.35L5.41 20z\"/>\n",
              "  </svg>\n",
              "      </button>\n",
              "      \n",
              "  <style>\n",
              "    .colab-df-container {\n",
              "      display:flex;\n",
              "      flex-wrap:wrap;\n",
              "      gap: 12px;\n",
              "    }\n",
              "\n",
              "    .colab-df-convert {\n",
              "      background-color: #E8F0FE;\n",
              "      border: none;\n",
              "      border-radius: 50%;\n",
              "      cursor: pointer;\n",
              "      display: none;\n",
              "      fill: #1967D2;\n",
              "      height: 32px;\n",
              "      padding: 0 0 0 0;\n",
              "      width: 32px;\n",
              "    }\n",
              "\n",
              "    .colab-df-convert:hover {\n",
              "      background-color: #E2EBFA;\n",
              "      box-shadow: 0px 1px 2px rgba(60, 64, 67, 0.3), 0px 1px 3px 1px rgba(60, 64, 67, 0.15);\n",
              "      fill: #174EA6;\n",
              "    }\n",
              "\n",
              "    [theme=dark] .colab-df-convert {\n",
              "      background-color: #3B4455;\n",
              "      fill: #D2E3FC;\n",
              "    }\n",
              "\n",
              "    [theme=dark] .colab-df-convert:hover {\n",
              "      background-color: #434B5C;\n",
              "      box-shadow: 0px 1px 3px 1px rgba(0, 0, 0, 0.15);\n",
              "      filter: drop-shadow(0px 1px 2px rgba(0, 0, 0, 0.3));\n",
              "      fill: #FFFFFF;\n",
              "    }\n",
              "  </style>\n",
              "\n",
              "      <script>\n",
              "        const buttonEl =\n",
              "          document.querySelector('#df-46775cac-61df-470e-bd81-b0369fab772a button.colab-df-convert');\n",
              "        buttonEl.style.display =\n",
              "          google.colab.kernel.accessAllowed ? 'block' : 'none';\n",
              "\n",
              "        async function convertToInteractive(key) {\n",
              "          const element = document.querySelector('#df-46775cac-61df-470e-bd81-b0369fab772a');\n",
              "          const dataTable =\n",
              "            await google.colab.kernel.invokeFunction('convertToInteractive',\n",
              "                                                     [key], {});\n",
              "          if (!dataTable) return;\n",
              "\n",
              "          const docLinkHtml = 'Like what you see? Visit the ' +\n",
              "            '<a target=\"_blank\" href=https://colab.research.google.com/notebooks/data_table.ipynb>data table notebook</a>'\n",
              "            + ' to learn more about interactive tables.';\n",
              "          element.innerHTML = '';\n",
              "          dataTable['output_type'] = 'display_data';\n",
              "          await google.colab.output.renderOutput(dataTable, element);\n",
              "          const docLink = document.createElement('div');\n",
              "          docLink.innerHTML = docLinkHtml;\n",
              "          element.appendChild(docLink);\n",
              "        }\n",
              "      </script>\n",
              "    </div>\n",
              "  </div>\n",
              "  "
            ]
          },
          "metadata": {},
          "execution_count": 60
        }
      ]
    },
    {
      "cell_type": "code",
      "source": [
        "ECom_Data['Net Brand Revenue']=ECom_net_brand['Net Brand Revenue']"
      ],
      "metadata": {
        "id": "PjdIJ0jH3nkl"
      },
      "id": "PjdIJ0jH3nkl",
      "execution_count": 61,
      "outputs": []
    },
    {
      "cell_type": "code",
      "source": [
        "g = sns.pairplot(ECom_Data, vars=[\"retail_price\", \"discounted_price\",'Net Brand Revenue','tot_discount_price'])"
      ],
      "metadata": {
        "colab": {
          "base_uri": "https://localhost:8080/",
          "height": 726
        },
        "id": "ESiOHfFCw8tZ",
        "outputId": "cd3b8db5-7a49-4fd9-95c6-f3819a5714da"
      },
      "id": "ESiOHfFCw8tZ",
      "execution_count": 66,
      "outputs": [
        {
          "output_type": "display_data",
          "data": {
            "text/plain": [
              "<Figure size 720x720 with 20 Axes>"
            ],
            "image/png": "[encoded data removed]"
          },
          "metadata": {}
        }
      ]
    },
    {
      "cell_type": "markdown",
      "id": "ecec83f4",
      "metadata": {
        "id": "ecec83f4"
      },
      "source": [
        "<font color='blue'>\n",
        "    <font size = 5>\n",
        "    The E-Commerce company operate in multiple regions. It is important to understand its performance in each region.\n",
        "    </font>"
      ]
    },
    {
      "cell_type": "markdown",
      "id": "dd09b8aa",
      "metadata": {
        "id": "dd09b8aa"
      },
      "source": [
        "## Q 9.Compare performance regionwise\n",
        "\n",
        "## a)\tDraw a lineplot for the monthly net Revenue of E-Commerce Company for each region separately.  (4 marks) \n",
        "\n",
        "## b)\tIdentify the best and the worst performing months for each region. (2 marks)\n",
        "\n",
        "#### Note: Only those days with actual orders(Order_Date) placed are present in the dataset. Assuming there were no orders on other days"
      ]
    },
    {
      "cell_type": "markdown",
      "id": "e6d64aea",
      "metadata": {
        "id": "e6d64aea"
      },
      "source": [
        "### Ans 9 a)"
      ]
    },
    {
      "cell_type": "code",
      "source": [
        "ECom_Data['month'] = pd.DatetimeIndex(ECom_Data['Order_Date']).month"
      ],
      "metadata": {
        "id": "ZVwahVOXdLp0"
      },
      "id": "ZVwahVOXdLp0",
      "execution_count": 43,
      "outputs": []
    },
    {
      "cell_type": "code",
      "source": [
        "ECom_north=ECom_Data[ECom_Data['Region']=='North']\n",
        "Ecom_east=ECom_Data[ECom_Data[\"Region\"] == \"East \"]\n",
        "ECom_west=ECom_Data[ECom_Data['Region']=='West']\n",
        "ECom_south=ECom_Data[ECom_Data['Region']=='South']"
      ],
      "metadata": {
        "id": "R_nn6awvfARc"
      },
      "id": "R_nn6awvfARc",
      "execution_count": 54,
      "outputs": []
    },
    {
      "cell_type": "code",
      "source": [
        "sns.lineplot(x='month',y='discounted_price',data=ECom_north,hue='Region')"
      ],
      "metadata": {
        "colab": {
          "base_uri": "https://localhost:8080/",
          "height": 519
        },
        "id": "JhYrfuUzaLV4",
        "outputId": "71ddacdb-f74d-4dbb-82af-172d3066215b"
      },
      "id": "JhYrfuUzaLV4",
      "execution_count": 46,
      "outputs": [
        {
          "output_type": "execute_result",
          "data": {
            "text/plain": [
              "<matplotlib.axes._subplots.AxesSubplot at 0x7f2a9fdca6d0>"
            ]
          },
          "metadata": {},
          "execution_count": 46
        },
        {
          "output_type": "display_data",
          "data": {
            "text/plain": [
              "<Figure size 720x576 with 1 Axes>"
            ],
            "image/png": "[encoded data removed]"
          },
          "metadata": {}
        }
      ]
    },
    {
      "cell_type": "code",
      "source": [
        "sns.lineplot(x='month',y='discounted_price',data=ECom_west,hue='Region')"
      ],
      "metadata": {
        "colab": {
          "base_uri": "https://localhost:8080/",
          "height": 522
        },
        "id": "q9F3baTrgBJ2",
        "outputId": "b34a4da0-375e-43e3-cfa7-ac2314cd3069"
      },
      "id": "q9F3baTrgBJ2",
      "execution_count": 47,
      "outputs": [
        {
          "output_type": "execute_result",
          "data": {
            "text/plain": [
              "<matplotlib.axes._subplots.AxesSubplot at 0x7f2aa2014710>"
            ]
          },
          "metadata": {},
          "execution_count": 47
        },
        {
          "output_type": "display_data",
          "data": {
            "text/plain": [
              "<Figure size 720x576 with 1 Axes>"
            ],
            "image/png": "[encoded data removed]"
          },
          "metadata": {}
        }
      ]
    },
    {
      "cell_type": "code",
      "source": [
        "sns.lineplot(x='month',y='discounted_price',data=ECom_south,hue='Region')"
      ],
      "metadata": {
        "colab": {
          "base_uri": "https://localhost:8080/",
          "height": 519
        },
        "id": "rClgI6eCgZTi",
        "outputId": "20d02f2a-1f51-4e0b-a244-8ae55d8028dd"
      },
      "id": "rClgI6eCgZTi",
      "execution_count": 48,
      "outputs": [
        {
          "output_type": "execute_result",
          "data": {
            "text/plain": [
              "<matplotlib.axes._subplots.AxesSubplot at 0x7f2a9fbf71d0>"
            ]
          },
          "metadata": {},
          "execution_count": 48
        },
        {
          "output_type": "display_data",
          "data": {
            "text/plain": [
              "<Figure size 720x576 with 1 Axes>"
            ],
            "image/png": "[encoded data removed]"
          },
          "metadata": {}
        }
      ]
    },
    {
      "cell_type": "code",
      "source": [
        "sns.lineplot(x='month',y='discounted_price',data=Ecom_east,hue='Region')"
      ],
      "metadata": {
        "colab": {
          "base_uri": "https://localhost:8080/",
          "height": 519
        },
        "id": "ddx4UaF0hrFj",
        "outputId": "8e0765c6-f1a8-4a57-cf8d-9e16b4d85aca"
      },
      "id": "ddx4UaF0hrFj",
      "execution_count": 56,
      "outputs": [
        {
          "output_type": "execute_result",
          "data": {
            "text/plain": [
              "<matplotlib.axes._subplots.AxesSubplot at 0x7f2a9f8d8cd0>"
            ]
          },
          "metadata": {},
          "execution_count": 56
        },
        {
          "output_type": "display_data",
          "data": {
            "text/plain": [
              "<Figure size 720x576 with 1 Axes>"
            ],
            "image/png": "[encoded data removed]"
          },
          "metadata": {}
        }
      ]
    },
    {
      "cell_type": "markdown",
      "id": "dac59dc4",
      "metadata": {
        "id": "dac59dc4"
      },
      "source": [
        "### Ans 9 b)"
      ]
    },
    {
      "cell_type": "code",
      "execution_count": null,
      "id": "9f569635",
      "metadata": {
        "id": "9f569635"
      },
      "outputs": [],
      "source": [
        "#yes you see some line have maximum revenue and some months have very low revenue and the region is label . you see the east, north , south,west.\n",
        "# so south region have maximum sale in the month of 7 and 9 similarly west have good sales in the month of 7 ,8 so overall sales in month july is maximum in all region\n",
        "\n",
        "\n",
        "# and revenue is very minimum in start of the year so the lineplot is very low in these months"
      ]
    },
    {
      "cell_type": "markdown",
      "id": "dcb8d39f",
      "metadata": {
        "id": "dcb8d39f"
      },
      "source": [
        "<font color='blue'>\n",
        "    <font size = 5>\n",
        "    Congratulations! You have learnt how to approach a complex data and extract information out of it. \n",
        "    </font>"
      ]
    }
  ],
  "metadata": {
    "kernelspec": {
      "display_name": "Python 3",
      "language": "python",
      "name": "python3"
    },
    "language_info": {
      "codemirror_mode": {
        "name": "ipython",
        "version": 3
      },
      "file_extension": ".py",
      "mimetype": "text/x-python",
      "name": "python",
      "nbconvert_exporter": "python",
      "pygments_lexer": "ipython3",
      "version": "3.8.8"
    },
    "colab": {
      "name": "Project_final_updated.ipynb",
      "provenance": []
    }
  },
  "nbformat": 4,
  "nbformat_minor": 5
}